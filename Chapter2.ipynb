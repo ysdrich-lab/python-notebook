{
 "cells": [
  {
   "cell_type": "markdown",
   "metadata": {
    "tags": []
   },
   "source": [
    "# 2.pythonと環境(12.5/100)"
   ]
  },
  {
   "cell_type": "markdown",
   "metadata": {},
   "source": [
    "\n",
    "## 2-1.実行環境構築(1:2.5)\n"
   ]
  },
  {
   "cell_type": "markdown",
   "metadata": {
    "tags": []
   },
   "source": [
    "\n",
    "### 1. Python公式版をインストール\n",
    "* WindowsにPythonをインストールする\n",
    "\n",
    "32bit/64bitのインストーラーをダウンロードしてインストールしようね。\n",
    "\n",
    "PATH通すとpythonだけで実行できるよ。\n",
    "\n",
    "インストールできたら確認しようね。\n",
    "\n",
    "```\n",
    "python -V\n",
    "\n",
    "```\n",
    "\n",
    "* macOSにPythonをインストールする\n",
    "\n",
    "OSによってバージョン確認してインストーラーダウンロードしようね。\n",
    "\n",
    "インストールできたら実行できるか確認しようね。\n",
    "\n",
    "macOSのルート証明書のコマンドも実行しようね。\n",
    "\n",
    "```\n",
    "python3.6 -V\n",
    "```"
   ]
  },
  {
   "cell_type": "markdown",
   "metadata": {},
   "source": [
    "\n",
    "### 2. venv:Pythonの仮想環境\n",
    "* venvとは\n",
    "\n",
    "pythonの仮想環境を作る仕組み。Pythonにデフォルトでついてるよ。\n",
    "\n",
    "* Windowsでvenv環境を作成\n",
    "\n",
    "```\n",
    "python -m venv <環境名>\n",
    "```\n",
    "で環境が作れるよ。\n",
    "\n",
    "環境名/Scripts/Activate.ps1スクリプトを起動すると仮想環境が有効化されるよ。\n",
    "抜けるにはdeactivate。\n",
    "\n",
    "不要になったら、rm -r -fo <環境名>で環境を削除できるよ。\n",
    "\n",
    "* macOSでvenv環境を作成\n",
    "\n",
    "    * python3.6 -m venv <環境名>で環境が作れるよ。\n",
    "\n",
    "    * source 環境名/bin/activateで仮想環境が有効化されるよ。\n",
    "\n",
    "    * which pythonで仮想環境化のpythonが使用されてることが確認できるよ。\n",
    "\n",
    "    * deactivateで仮想環境から抜けるよ。\n",
    "\n",
    "    * 仮想環境消すには、rm -rf <仮想環境名>\n"
   ]
  },
  {
   "cell_type": "markdown",
   "metadata": {},
   "source": [
    "\n",
    "### 3. pipコマンド\n",
    "\n",
    "Pythonの環境に、サードパーティ製のパッケージをインストールするためのコマンド。\n",
    "\n",
    "PyPIに公開されてるから、pipコマンドでダウンロード、インストールするよ。\n",
    "\n",
    "* パッケージのインストール、アンインストール\n",
    "\n",
    "    pythonの仮想環境を作ってから、\n",
    "\n",
    "    * pip install <パッケージ名>\n",
    "    \n",
    "        インストールできるよ。\n",
    "\n",
    "    * pip uninstall <パッケージ名>\n",
    "        アンインストール。\n",
    "\n",
    "    * pip install <パッケージ名>==<バージョン>\n",
    "        バージョン指定してインストールできるよ。\n",
    "\n",
    "    * pip install -U <パッケージ名>\n",
    "        アップデート。\n",
    "\n",
    "    * pip install -U pip\n",
    "\n",
    "        pip自体のアップデート。\n",
    "\n",
    "\n",
    "* パッケージの一覧を取得\n",
    "\n",
    "    * pip list\n",
    "\n",
    "        インストールしてあるパッケージの一覧が表示される。\n",
    "\n",
    "    * pip list -o\n",
    "    \n",
    "        新バージョンが存在するパッケージの一覧が表示される。\n",
    "\n",
    "\n",
    "\n",
    "* 複数の環境でパッケージとバージョンを統一する\n",
    "\n",
    "   複数人で作業する時とかに、パッケージのバージョン統一しときたいよね。\n",
    "   \n",
    "   * pip freeze > requirements.txt\n",
    "   \n",
    "       requirements.txtにインストール済みのパッケージ一覧が出力される。\n",
    "       \n",
    "   * pip install -r requirements.txt\n",
    "   \n",
    "       requirements.txtに書いてあるパッケージがインストールされる。便利。"
   ]
  },
  {
   "cell_type": "markdown",
   "metadata": {},
   "source": [
    "\n",
    "### 4. Anaconda\n",
    "* Anacondaとは\n",
    "\n",
    "Anaconda社が開発してるPythonディストリビューション。\n",
    "\n",
    "色々なライブラリ同梱だから便利。いっぱい使われてる。\n",
    "\n",
    "* Anacondaを利用するメリットとデメリット\n",
    "\n",
    "独自のcondaコマンドで仮想環境の構築やパッケージ管理ができる。\n",
    "\n",
    "メリットは便利なこと。オールインワン的な。\n",
    "\n",
    "デメリットは、パッケージの管理でごちゃごちゃする。\n",
    "\n",
    "Anaconda社のリポジトリからダウンロードするからバージョンが古かったり、そもそも存在しなかったりする。\n",
    "\n",
    "pipとcondaどちらも使えるけど、環境が壊れることもあるから基本的にcondaで統一推奨。\n",
    "\n",
    "* Anacondaのインストール手順\n",
    "\n",
    "anacondaのインストーラーを落としてきてね。\n"
   ]
  },
  {
   "cell_type": "markdown",
   "metadata": {},
   "source": [
    "\n",
    "## 2-2.Pythonの基礎(3:7.5)"
   ]
  },
  {
   "cell_type": "markdown",
   "metadata": {},
   "source": [
    "\n",
    "### 1. Python文法\n",
    "* 環境構築\n",
    "\n",
    "とりあえず仮想環境作ってからお勉強しようね。\n",
    "\n",
    "* 文法の考え方\n",
    "\n",
    "Pythonの設計思想：シンプルで読みやすいコードが書けること\n",
    "\n",
    "\n",
    "同じ動作をするプログラムは似たようなコードになる。\n",
    "\n",
    "* インデント\n",
    "\n",
    "コードブロックをインデントで表記するよ。\n",
    "\n",
    "* コーディング規約\n",
    "\n",
    "\n",
    "PEP 8\n",
    "\n",
    "PycodestyleやらFlake8っていうツールでコーディング規約チェックができるよ。\n"
   ]
  },
  {
   "cell_type": "markdown",
   "metadata": {},
   "source": [
    "\n",
    "### 2. 基本構文\n",
    "\n",
    "IPythonの対話モードで実行する形式で記述。\n",
    "    \n",
    "IPythonは色々機能があるよ。\n",
    "\n",
    "* TABキーによる補完\n",
    "* 自動インデント\n",
    "* オブジェクトの後ろに?でヘルプ機能\n",
    "* %で始まるマジックコマンド\n",
    "* !で始まるシェルコマンド\n"
   ]
  },
  {
   "cell_type": "markdown",
   "metadata": {},
   "source": [
    "\n",
    "* 条件分岐と繰り返し\n",
    "\n",
    "条件分岐はif,elif,else。\n",
    "\n",
    "繰り返しはfor"
   ]
  },
  {
   "cell_type": "code",
   "execution_count": 2,
   "metadata": {},
   "outputs": [
    {
     "name": "stdout",
     "output_type": "stream",
     "text": [
      "昭和\n",
      "平成\n",
      "令和\n"
     ]
    }
   ],
   "source": [
    "for year in [1950,2000,2020]:\n",
    "    if year < 1989:\n",
    "        print('昭和')\n",
    "    elif year < 2019:\n",
    "        print('平成')\n",
    "    else:\n",
    "        print('令和')"
   ]
  },
  {
   "cell_type": "markdown",
   "metadata": {},
   "source": [
    "* 例外処理\n",
    "\n",
    "try,exceptで行う。"
   ]
  },
  {
   "cell_type": "code",
   "execution_count": 3,
   "metadata": {},
   "outputs": [
    {
     "name": "stdout",
     "output_type": "stream",
     "text": [
      "0で割っちゃ駄目\n"
     ]
    }
   ],
   "source": [
    "try:\n",
    "    1/0\n",
    "except ZeroDivisionError:\n",
    "    print('0で割っちゃ駄目')"
   ]
  },
  {
   "cell_type": "markdown",
   "metadata": {},
   "source": [
    "* 内包処理\n",
    "\n",
    "セットとかリストとか辞書とかを完結に生成する機能。\n",
    "\n",
    "二重配列作るときに使ったりする。\n",
    "\n",
    "ifとかネストとかもできる。使いこなせたら格好いい。便利。\n",
    "\n",
    "でも可読性悪くなる。"
   ]
  },
  {
   "cell_type": "code",
   "execution_count": 4,
   "metadata": {},
   "outputs": [
    {
     "data": {
      "text/plain": [
       "[4, 3, 4]"
      ]
     },
     "execution_count": 4,
     "metadata": {},
     "output_type": "execute_result"
    }
   ],
   "source": [
    "# 内包表記を使わない場合\n",
    "names = ['spam', 'ham', 'eggs']\n",
    "lens = []\n",
    "for name in names:\n",
    "    lens.append(len(name))\n",
    "lens"
   ]
  },
  {
   "cell_type": "code",
   "execution_count": 5,
   "metadata": {},
   "outputs": [
    {
     "data": {
      "text/plain": [
       "[4, 3, 4]"
      ]
     },
     "execution_count": 5,
     "metadata": {},
     "output_type": "execute_result"
    }
   ],
   "source": [
    "# 内包表記使ったらこうなる\n",
    "lens = [len(name) for name in names]\n",
    "\n",
    "lens"
   ]
  },
  {
   "cell_type": "code",
   "execution_count": 6,
   "metadata": {},
   "outputs": [
    {
     "data": {
      "text/plain": [
       "{3, 4}"
      ]
     },
     "execution_count": 6,
     "metadata": {},
     "output_type": "execute_result"
    }
   ],
   "source": [
    "# セット内包表記の場合\n",
    "lens_set = {len(name) for name in names}\n",
    "lens_set"
   ]
  },
  {
   "cell_type": "code",
   "execution_count": 7,
   "metadata": {},
   "outputs": [
    {
     "data": {
      "text/plain": [
       "{'spam': 4, 'ham': 3, 'eggs': 4}"
      ]
     },
     "execution_count": 7,
     "metadata": {},
     "output_type": "execute_result"
    }
   ],
   "source": [
    "# 辞書内包表記の場合\n",
    "lens_dict = {name: len(name) for name in names}\n",
    "lens_dict"
   ]
  },
  {
   "cell_type": "code",
   "execution_count": 10,
   "metadata": {},
   "outputs": [
    {
     "data": {
      "text/plain": [
       "[0, 4, 16, 36, 64]"
      ]
     },
     "execution_count": 10,
     "metadata": {},
     "output_type": "execute_result"
    }
   ],
   "source": [
    "# if文が入ると\n",
    "[x*x for x in range(10) if x%2 == 0]"
   ]
  },
  {
   "cell_type": "code",
   "execution_count": 12,
   "metadata": {},
   "outputs": [
    {
     "data": {
      "text/plain": [
       "[[(0, 0), (0, 4), (0, 16), (0, 36), (0, 64)],\n",
       " [(1, 0), (1, 4), (1, 16), (1, 36), (1, 64)],\n",
       " [(2, 0), (2, 4), (2, 16), (2, 36), (2, 64)]]"
      ]
     },
     "execution_count": 12,
     "metadata": {},
     "output_type": "execute_result"
    }
   ],
   "source": [
    "# 3重リスト（リスト、リスト、タプル）の場合\n",
    "\n",
    "[[(y, x*x) for x in range(10) if x % 2 == 0] for y in range(3)]"
   ]
  },
  {
   "cell_type": "markdown",
   "metadata": {},
   "source": [
    "* ジェネレーター式\n",
    "\n",
    "値を1つずつ返すジェネレーターを生成するよ\n",
    "大量のデータを処理する時に、消費メモリ料の削減ができるよ"
   ]
  },
  {
   "cell_type": "code",
   "execution_count": 15,
   "metadata": {},
   "outputs": [
    {
     "data": {
      "text/plain": [
       "(list, 1000000)"
      ]
     },
     "execution_count": 15,
     "metadata": {},
     "output_type": "execute_result"
    }
   ],
   "source": [
    "# 内包表記で普通にリストの場合\n",
    "l = [x*x for x in range(10**6)]\n",
    "\n",
    "type(l),len(l)"
   ]
  },
  {
   "cell_type": "code",
   "execution_count": 27,
   "metadata": {},
   "outputs": [
    {
     "data": {
      "text/plain": [
       "generator"
      ]
     },
     "execution_count": 27,
     "metadata": {},
     "output_type": "execute_result"
    }
   ],
   "source": [
    "# ジェネレータで定義してみる\n",
    "g = (x*x for x in range(10**6))\n",
    "\n",
    "type(g)"
   ]
  },
  {
   "cell_type": "code",
   "execution_count": 28,
   "metadata": {},
   "outputs": [
    {
     "data": {
      "text/plain": [
       "(0, 1, 4)"
      ]
     },
     "execution_count": 28,
     "metadata": {},
     "output_type": "execute_result"
    }
   ],
   "source": [
    "#値が順番に出てくるよ\n",
    "\n",
    "next(g),next(g),next(g)"
   ]
  },
  {
   "cell_type": "markdown",
   "metadata": {},
   "source": [
    "* ファイル入出力\n",
    "\n",
    "open関数を使うよ。withを使うと閉じ忘れを防ぐよ。"
   ]
  },
  {
   "cell_type": "code",
   "execution_count": 30,
   "metadata": {},
   "outputs": [],
   "source": [
    "# ファイルを開いて書き込み\n",
    "with open('sample.txt', 'w', encoding='utf-8') as f:\n",
    "        f.write('はろー')\n",
    "        f.write('ぱいそん')"
   ]
  },
  {
   "cell_type": "code",
   "execution_count": 32,
   "metadata": {},
   "outputs": [
    {
     "data": {
      "text/plain": [
       "True"
      ]
     },
     "execution_count": 32,
     "metadata": {},
     "output_type": "execute_result"
    }
   ],
   "source": [
    "f.closed # ファイルが閉じてるか確認"
   ]
  },
  {
   "cell_type": "code",
   "execution_count": 33,
   "metadata": {},
   "outputs": [
    {
     "data": {
      "text/plain": [
       "'はろーぱいそん'"
      ]
     },
     "execution_count": 33,
     "metadata": {},
     "output_type": "execute_result"
    }
   ],
   "source": [
    "with open('sample.txt', encoding='utf-8') as f:\n",
    "    data = f.read()\n",
    "\n",
    "data"
   ]
  },
  {
   "cell_type": "markdown",
   "metadata": {},
   "source": [
    "\n",
    "* 文字列操作\n",
    "\n",
    "いろんな操作ができるよ"
   ]
  },
  {
   "cell_type": "code",
   "execution_count": 38,
   "metadata": {},
   "outputs": [
    {
     "data": {
      "text/plain": [
       "('HELLO PYTHON', 'hello python', 'Hello Python')"
      ]
     },
     "execution_count": 38,
     "metadata": {},
     "output_type": "execute_result"
    }
   ],
   "source": [
    "s1 = 'hello python'\n",
    "\n",
    "# 大文字、小文字、単語頭大文字\n",
    "s1.upper(), s1.lower(), s1.title()\n"
   ]
  },
  {
   "cell_type": "code",
   "execution_count": 39,
   "metadata": {},
   "outputs": [
    {
     "data": {
      "text/plain": [
       "'Hi python'"
      ]
     },
     "execution_count": 39,
     "metadata": {},
     "output_type": "execute_result"
    }
   ],
   "source": [
    "# 置換\n",
    "s1.replace('hello', 'Hi')"
   ]
  },
  {
   "cell_type": "code",
   "execution_count": 40,
   "metadata": {},
   "outputs": [
    {
     "data": {
      "text/plain": [
       "['spam', 'ham', 'eggs']"
      ]
     },
     "execution_count": 40,
     "metadata": {},
     "output_type": "execute_result"
    }
   ],
   "source": [
    "s2 = '   spam  ham     eggs     '\n",
    "\n",
    "# 空白で分割\n",
    "s2.split()"
   ]
  },
  {
   "cell_type": "code",
   "execution_count": 41,
   "metadata": {},
   "outputs": [
    {
     "data": {
      "text/plain": [
       "'spam  ham     eggs'"
      ]
     },
     "execution_count": 41,
     "metadata": {},
     "output_type": "execute_result"
    }
   ],
   "source": [
    "# 文字列の左右空白文字を削除\n",
    "s2.strip()"
   ]
  },
  {
   "cell_type": "code",
   "execution_count": 43,
   "metadata": {},
   "outputs": [
    {
     "data": {
      "text/plain": [
       "True"
      ]
     },
     "execution_count": 43,
     "metadata": {},
     "output_type": "execute_result"
    }
   ],
   "source": [
    "s3 = 'sample.jpg'\n",
    "\n",
    "# 文末チェック\n",
    "s3.endswith(('jpg','gif','png'))"
   ]
  },
  {
   "cell_type": "code",
   "execution_count": 44,
   "metadata": {},
   "outputs": [
    {
     "data": {
      "text/plain": [
       "True"
      ]
     },
     "execution_count": 44,
     "metadata": {},
     "output_type": "execute_result"
    }
   ],
   "source": [
    "# 文字列が数値かチェック\n",
    "'123456789'.isdigit()"
   ]
  },
  {
   "cell_type": "code",
   "execution_count": 46,
   "metadata": {},
   "outputs": [
    {
     "data": {
      "text/plain": [
       "12"
      ]
     },
     "execution_count": 46,
     "metadata": {},
     "output_type": "execute_result"
    }
   ],
   "source": [
    "# 文字列の長さを取得\n",
    "len(s1)"
   ]
  },
  {
   "cell_type": "code",
   "execution_count": 47,
   "metadata": {},
   "outputs": [
    {
     "data": {
      "text/plain": [
       "True"
      ]
     },
     "execution_count": 47,
     "metadata": {},
     "output_type": "execute_result"
    }
   ],
   "source": [
    "# 文字列の中に任意の文字列が存在するかチェック\n",
    "'py' in s1"
   ]
  },
  {
   "cell_type": "code",
   "execution_count": 48,
   "metadata": {},
   "outputs": [
    {
     "data": {
      "text/plain": [
       "'spam-ham-egg'"
      ]
     },
     "execution_count": 48,
     "metadata": {},
     "output_type": "execute_result"
    }
   ],
   "source": [
    "# 複数の文字列を連結\n",
    "'-'.join(['spam','ham','egg'])"
   ]
  },
  {
   "cell_type": "code",
   "execution_count": 49,
   "metadata": {},
   "outputs": [
    {
     "data": {
      "text/plain": [
       "'takanoriはpythonが好きです'"
      ]
     },
     "execution_count": 49,
     "metadata": {},
     "output_type": "execute_result"
    }
   ],
   "source": [
    "# formatメソッド\n",
    "lang, num, name = 'python', 10, 'takanori'\n",
    "\n",
    "'{}は{}が好きです'.format(name,lang)"
   ]
  },
  {
   "cell_type": "code",
   "execution_count": 52,
   "metadata": {},
   "outputs": [
    {
     "data": {
      "text/plain": [
       "'takanoriはpythonが好きです'"
      ]
     },
     "execution_count": 52,
     "metadata": {},
     "output_type": "execute_result"
    }
   ],
   "source": [
    "'{1}は{0}が好きです'.format(lang,name)"
   ]
  },
  {
   "cell_type": "code",
   "execution_count": 53,
   "metadata": {},
   "outputs": [
    {
     "data": {
      "text/plain": [
       "'takanoriは10の10乗pythonが好きです'"
      ]
     },
     "execution_count": 53,
     "metadata": {},
     "output_type": "execute_result"
    }
   ],
   "source": [
    "'{n}は{num}の{num}乗{l}が好きです'.format(l=lang, n=name, num=num)"
   ]
  },
  {
   "cell_type": "markdown",
   "metadata": {},
   "source": [
    "\n",
    "### 3. 標準ライブラリ\n",
    "* 正規表現モジュール\n",
    "\n",
    "re。正規表現オブジェクト作ったりする。\n",
    "    "
   ]
  },
  {
   "cell_type": "code",
   "execution_count": 62,
   "metadata": {},
   "outputs": [
    {
     "name": "stdout",
     "output_type": "stream",
     "text": [
      "<re.Match object; span=(0, 6), match='Python'>\n"
     ]
    }
   ],
   "source": [
    "import re\n",
    "\n",
    "prog = re.compile('(P(yth|l)|Z)o[pn]e?') #正規表現オブジェクトを生成\n",
    "\n",
    "print(prog.search('Python')) # マッチする場合はmatchオブジェクトを返す"
   ]
  },
  {
   "cell_type": "code",
   "execution_count": 63,
   "metadata": {},
   "outputs": [
    {
     "name": "stdout",
     "output_type": "stream",
     "text": [
      "None\n"
     ]
    }
   ],
   "source": [
    "print(prog.search('Spam')) # マッチしない場合はNoneを返す"
   ]
  },
  {
   "cell_type": "markdown",
   "metadata": {},
   "source": [
    "* loggingモジュール\n",
    "\n",
    "バッチ処理の途中経過とか、エラー関係とかのログ出力に便利なモジュール"
   ]
  },
  {
   "cell_type": "code",
   "execution_count": 66,
   "metadata": {},
   "outputs": [],
   "source": [
    "import logging\n",
    "\n",
    "logging.basicConfig(\n",
    "    filename = 'example_log1.log', # 出力ファイルを指定\n",
    "    level = logging.INFO, # ログレベルを指定\n",
    "    format='%(asctime)s:%(levelname)s:%(message)s' # フォーマットを指定\n",
    ")"
   ]
  },
  {
   "cell_type": "code",
   "execution_count": 67,
   "metadata": {},
   "outputs": [],
   "source": [
    "logging.debug('デバッグレベル')\n",
    "logging.info('infoレベル')\n",
    "logging.warning('警告レベル')\n",
    "logging.error('エラーレベル')\n",
    "logging.critical('重大なエラー')"
   ]
  },
  {
   "cell_type": "markdown",
   "metadata": {},
   "source": [
    "* datetimeモジュール\n",
    "\n",
    "日付とか時間とかをいじくるためのモジュール"
   ]
  },
  {
   "cell_type": "code",
   "execution_count": 70,
   "metadata": {},
   "outputs": [
    {
     "data": {
      "text/plain": [
       "datetime.datetime(2021, 8, 31, 9, 17, 41, 396413)"
      ]
     },
     "execution_count": 70,
     "metadata": {},
     "output_type": "execute_result"
    }
   ],
   "source": [
    "from datetime import datetime,date\n",
    "\n",
    "datetime.now() # 現在日時を取得"
   ]
  },
  {
   "cell_type": "code",
   "execution_count": 71,
   "metadata": {},
   "outputs": [
    {
     "data": {
      "text/plain": [
       "datetime.date(2021, 8, 31)"
      ]
     },
     "execution_count": 71,
     "metadata": {},
     "output_type": "execute_result"
    }
   ],
   "source": [
    "date.today() # 今日の日付を取得"
   ]
  },
  {
   "cell_type": "code",
   "execution_count": 73,
   "metadata": {},
   "outputs": [
    {
     "data": {
      "text/plain": [
       "datetime.timedelta(days=4654)"
      ]
     },
     "execution_count": 73,
     "metadata": {},
     "output_type": "execute_result"
    }
   ],
   "source": [
    "date.today() - date(2008, 12, 3) # 日数の差を計算"
   ]
  },
  {
   "cell_type": "code",
   "execution_count": 75,
   "metadata": {},
   "outputs": [
    {
     "data": {
      "text/plain": [
       "'2021-08-31T09:18:49.502977'"
      ]
     },
     "execution_count": 75,
     "metadata": {},
     "output_type": "execute_result"
    }
   ],
   "source": [
    "datetime.now().isoformat() # ISO8601形式の文字列として取得"
   ]
  },
  {
   "cell_type": "code",
   "execution_count": 77,
   "metadata": {},
   "outputs": [
    {
     "data": {
      "text/plain": [
       "'2021年08月31日'"
      ]
     },
     "execution_count": 77,
     "metadata": {},
     "output_type": "execute_result"
    }
   ],
   "source": [
    "date.today().strftime('%Y年%m月%d日') # 日付を指定フォーマットの文字列として取得"
   ]
  },
  {
   "cell_type": "code",
   "execution_count": 78,
   "metadata": {},
   "outputs": [
    {
     "data": {
      "text/plain": [
       "datetime.datetime(2021, 8, 31, 0, 0)"
      ]
     },
     "execution_count": 78,
     "metadata": {},
     "output_type": "execute_result"
    }
   ],
   "source": [
    "datetime.strptime('2021年8月31日', '%Y年%m月%d日') # 文字列を日時データとして変換"
   ]
  },
  {
   "cell_type": "markdown",
   "metadata": {
    "jp-MarkdownHeadingCollapsed": true,
    "tags": []
   },
   "source": [
    "* pickleモジュール\n",
    "\n",
    "Pythonオブジェクトを直列化してファイルなどで読み書きするためのモジュール\n",
    "\n"
   ]
  },
  {
   "cell_type": "code",
   "execution_count": 82,
   "metadata": {},
   "outputs": [
    {
     "data": {
      "text/plain": [
       "{'today': datetime.date(2021, 8, 31), 'delta': datetime.timedelta(days=-973)}"
      ]
     },
     "execution_count": 82,
     "metadata": {},
     "output_type": "execute_result"
    }
   ],
   "source": [
    "import pickle\n",
    "\n",
    "d = {\n",
    "    'today': date.today(),\n",
    "    'delta': date(2019,1,1) - date.today()\n",
    "    }\n",
    "\n",
    "d"
   ]
  },
  {
   "cell_type": "code",
   "execution_count": 84,
   "metadata": {},
   "outputs": [
    {
     "data": {
      "text/plain": [
       "b'\\x80\\x04\\x95Q\\x00\\x00\\x00\\x00\\x00\\x00\\x00}\\x94(\\x8c\\x05today\\x94\\x8c\\x08datetime\\x94\\x8c\\x04date\\x94\\x93\\x94C\\x04\\x07\\xe5\\x08\\x1f\\x94\\x85\\x94R\\x94\\x8c\\x05delta\\x94h\\x02\\x8c\\ttimedelta\\x94\\x93\\x94J3\\xfc\\xff\\xffK\\x00K\\x00\\x87\\x94R\\x94u.'"
      ]
     },
     "execution_count": 84,
     "metadata": {},
     "output_type": "execute_result"
    }
   ],
   "source": [
    "pickle.dumps(d) # 直列化した情報を確認"
   ]
  },
  {
   "cell_type": "code",
   "execution_count": 85,
   "metadata": {},
   "outputs": [],
   "source": [
    "with open('date.pkl', 'wb') as f: # バイト書き込みモードで開く\n",
    "    pickle.dump(d, f) # pickle形式のデータを保存"
   ]
  },
  {
   "cell_type": "code",
   "execution_count": 86,
   "metadata": {},
   "outputs": [],
   "source": [
    "with open('date.pkl', 'rb') as f: # バイト読み込みモードで開く\n",
    "    new_d = pickle.load(f) #pickle形式のデータを読み込む"
   ]
  },
  {
   "cell_type": "code",
   "execution_count": 88,
   "metadata": {},
   "outputs": [
    {
     "data": {
      "text/plain": [
       "{'today': datetime.date(2021, 8, 31), 'delta': datetime.timedelta(days=-973)}"
      ]
     },
     "execution_count": 88,
     "metadata": {},
     "output_type": "execute_result"
    }
   ],
   "source": [
    "new_d #もとのデータと同じものが読み込めた"
   ]
  },
  {
   "cell_type": "markdown",
   "metadata": {},
   "source": [
    "* pathibモジュール\n",
    "\n",
    "ファイルのパスを扱うのに便利なモジュール"
   ]
  },
  {
   "cell_type": "code",
   "execution_count": 97,
   "metadata": {},
   "outputs": [
    {
     "data": {
      "text/plain": [
       "PosixPath('.')"
      ]
     },
     "execution_count": 97,
     "metadata": {},
     "output_type": "execute_result"
    }
   ],
   "source": [
    "from pathlib import Path\n",
    "p = Path() #Pathオブジェクトを現在のディレクトリで生成\n",
    "p"
   ]
  },
  {
   "cell_type": "code",
   "execution_count": 99,
   "metadata": {},
   "outputs": [
    {
     "data": {
      "text/plain": [
       "'はろーぱいそん'"
      ]
     },
     "execution_count": 99,
     "metadata": {},
     "output_type": "execute_result"
    }
   ],
   "source": [
    "for filepath in p.glob('*.txt'): # txtファイルを順番に開いて読み込むループ\n",
    "    with open(filepath, encoding='utf-8') as f: \n",
    "        data = f.read()\n",
    "data"
   ]
  },
  {
   "cell_type": "code",
   "execution_count": 101,
   "metadata": {},
   "outputs": [
    {
     "data": {
      "text/plain": [
       "PosixPath('/spam/ham/eggs.txt')"
      ]
     },
     "execution_count": 101,
     "metadata": {},
     "output_type": "execute_result"
    }
   ],
   "source": [
    "p = Path('/spam') # 'spamディレクトリでPathオブジェクトを生成\n",
    "\n",
    "p / 'ham' / 'eggs.txt' # 演算子でPathを生成"
   ]
  },
  {
   "cell_type": "code",
   "execution_count": 102,
   "metadata": {},
   "outputs": [
    {
     "data": {
      "text/plain": [
       "True"
      ]
     },
     "execution_count": 102,
     "metadata": {},
     "output_type": "execute_result"
    }
   ],
   "source": [
    "p = Path('date.pkl') # date.pklのパスオブジェクトを生成\n",
    "p.exists() # date.pklの存在チェック"
   ]
  },
  {
   "cell_type": "code",
   "execution_count": 103,
   "metadata": {},
   "outputs": [
    {
     "data": {
      "text/plain": [
       "False"
      ]
     },
     "execution_count": 103,
     "metadata": {},
     "output_type": "execute_result"
    }
   ],
   "source": [
    "p.is_dir() # p(=date.pkl)はディレクトリですか？"
   ]
  },
  {
   "cell_type": "markdown",
   "metadata": {},
   "source": [
    "\n",
    "## 2-3.Jupyter Notebook(1:2.5)"
   ]
  },
  {
   "cell_type": "markdown",
   "metadata": {},
   "source": [
    "### 1. Jupyter Notebookとは\n",
    "\n",
    "オープンソースのツール。機械学習、データ分析、可視化などに広く使われてるよ。\n",
    "\n",
    "Webアプリだよ。今もJupyterLabつかって書いてるよ。\n",
    "\n",
    "もともとはIPython Notebook。\n",
    "\n",
    "JuliaとかR言語とかにも対応してるよ。\n",
    "\n",
    "プログラムとmarkdownが1つのドキュメントに内包できるの便利よね。\n",
    "\n",
    "pandasのDFとかmatplotlibとかも表示できるの超便利。"
   ]
  },
  {
   "cell_type": "markdown",
   "metadata": {},
   "source": [
    "\n",
    "### 2. インストール\n",
    "\n",
    "pipコマンドでインストールする（らしい）\n",
    "\n",
    "dockerで立ち上げてるから知らない。"
   ]
  },
  {
   "cell_type": "markdown",
   "metadata": {},
   "source": [
    "\n",
    "### 3. 基本的な使い方\n",
    "\n",
    "起動、ファイル作成、実行までは割愛。\n"
   ]
  },
  {
   "cell_type": "markdown",
   "metadata": {},
   "source": [
    "\n",
    "### 4. 便利な使い方\n",
    "\n",
    "* マジックコマンド\n",
    "\n",
    "先頭に[%]をつけると、プログラムの実行時間を測ってくれる。便利。\n",
    "\n",
    "[%%]をつけると、セル全体の処理時間を測ってくれる。便利。\n",
    "\n",
    "* シェルコマンド\n",
    "\n",
    "先頭に[!]をつけるとosのコマンドが実行できる。pip installとかセルからできる。楽。\n",
    "\n",
    "\n",
    "* その他\n",
    "\n",
    "Notebookファイルは内部的にはJSON形式で記述されてるよ。\n",
    "\n",
    "Githubはipynb対応してるから参照できるよ。"
   ]
  },
  {
   "cell_type": "markdown",
   "metadata": {},
   "source": [
    "### 5. 第4章以降で使用する環境の準備\n",
    "\n",
    "一部パッケージ足りないからちょっと追加で入れるよ。\n",
    "\n",
    "シェルコマンド使うよ。"
   ]
  },
  {
   "cell_type": "code",
   "execution_count": 105,
   "metadata": {},
   "outputs": [
    {
     "name": "stdout",
     "output_type": "stream",
     "text": [
      "Collecting openpyxl\n",
      "  Downloading openpyxl-3.0.7-py2.py3-none-any.whl (243 kB)\n",
      "\u001b[K     |████████████████████████████████| 243 kB 600 kB/s eta 0:00:01\n",
      "\u001b[?25hCollecting et-xmlfile\n",
      "  Downloading et_xmlfile-1.1.0-py3-none-any.whl (4.7 kB)\n",
      "Installing collected packages: et-xmlfile, openpyxl\n",
      "Successfully installed et-xmlfile-1.1.0 openpyxl-3.0.7\n"
     ]
    }
   ],
   "source": [
    "!pip install openpyxl"
   ]
  },
  {
   "cell_type": "code",
   "execution_count": null,
   "metadata": {},
   "outputs": [
    {
     "name": "stdout",
     "output_type": "stream",
     "text": [
      "Collecting lxml\n",
      "  Downloading lxml-4.6.3-cp39-cp39-manylinux2014_x86_64.whl (6.9 MB)\n",
      "\u001b[K     |██████▋                         | 1.4 MB 155 kB/s eta 0:00:36     |██████▋                         | 1.4 MB 87 kB/s eta 0:01:03"
     ]
    }
   ],
   "source": [
    "!pip install lxml"
   ]
  },
  {
   "cell_type": "code",
   "execution_count": null,
   "metadata": {},
   "outputs": [],
   "source": []
  }
 ],
 "metadata": {
  "kernelspec": {
   "display_name": "Python 3 (ipykernel)",
   "language": "python",
   "name": "python3"
  },
  "language_info": {
   "codemirror_mode": {
    "name": "ipython",
    "version": 3
   },
   "file_extension": ".py",
   "mimetype": "text/x-python",
   "name": "python",
   "nbconvert_exporter": "python",
   "pygments_lexer": "ipython3",
   "version": "3.9.6"
  }
 },
 "nbformat": 4,
 "nbformat_minor": 4
}
