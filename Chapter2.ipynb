{
 "cells": [
  {
   "cell_type": "markdown",
   "metadata": {
    "tags": []
   },
   "source": [
    "# 2.pythonと環境(12.5/100)"
   ]
  },
  {
   "cell_type": "markdown",
   "metadata": {},
   "source": [
    "\n",
    "## 2-1.実行環境構築(1:2.5)\n"
   ]
  },
  {
   "cell_type": "markdown",
   "metadata": {
    "tags": []
   },
   "source": [
    "\n",
    "### 1. Python公式版をインストール\n",
    "* WindowsにPythonをインストールする\n",
    "\n",
    "32bit/64bitのインストーラーをダウンロードしてインストールしようね。\n",
    "\n",
    "PATH通すとpythonだけで実行できるよ。\n",
    "\n",
    "インストールできたら確認しようね。\n",
    "\n",
    "```\n",
    "python -V\n",
    "\n",
    "```\n",
    "\n",
    "* macOSにPythonをインストールする\n",
    "\n",
    "OSによってバージョン確認してインストーラーダウンロードしようね。\n",
    "\n",
    "インストールできたら実行できるか確認しようね。\n",
    "\n",
    "macOSのルート証明書のコマンドも実行しようね。\n",
    "\n",
    "```\n",
    "python3.6 -V\n",
    "```"
   ]
  },
  {
   "cell_type": "markdown",
   "metadata": {},
   "source": [
    "\n",
    "### 2. venv:Pythonの仮想環境\n",
    "* venvとは\n",
    "\n",
    "pythonの仮想環境を作る仕組み。Pythonにデフォルトでついてるよ。\n",
    "\n",
    "* Windowsでvenv環境を作成\n",
    "\n",
    "```\n",
    "python -m venv <環境名>\n",
    "```\n",
    "で環境が作れるよ。\n",
    "\n",
    "環境名/Scripts/Activate.ps1スクリプトを起動すると仮想環境が有効化されるよ。\n",
    "抜けるにはdeactivate。\n",
    "\n",
    "不要になったら、rm -r -fo <環境名>で環境を削除できるよ。\n",
    "\n",
    "* macOSでvenv環境を作成\n",
    "\n",
    "    * python3.6 -m venv <環境名>で環境が作れるよ。\n",
    "\n",
    "    * source 環境名/bin/activateで仮想環境が有効化されるよ。\n",
    "\n",
    "    * which pythonで仮想環境化のpythonが使用されてることが確認できるよ。\n",
    "\n",
    "    * deactivateで仮想環境から抜けるよ。\n",
    "\n",
    "    * 仮想環境消すには、rm -rf <仮想環境名>\n"
   ]
  },
  {
   "cell_type": "markdown",
   "metadata": {},
   "source": [
    "\n",
    "### 3. pipコマンド\n",
    "\n",
    "Pythonの環境に、サードパーティ製のパッケージをインストールするためのコマンド。\n",
    "\n",
    "PyPIに公開されてるから、pipコマンドでダウンロード、インストールするよ。\n",
    "\n",
    "* パッケージのインストール、アンインストール\n",
    "\n",
    "    pythonの仮想環境を作ってから、\n",
    "\n",
    "    * pip install <パッケージ名>\n",
    "    \n",
    "        インストールできるよ。\n",
    "\n",
    "    * pip uninstall <パッケージ名>\n",
    "        アンインストール。\n",
    "\n",
    "    * pip install <パッケージ名>==<バージョン>\n",
    "        バージョン指定してインストールできるよ。\n",
    "\n",
    "    * pip install -U <パッケージ名>\n",
    "        アップデート。\n",
    "\n",
    "    * pip install -U pip\n",
    "\n",
    "        pip自体のアップデート。\n",
    "\n",
    "\n",
    "* パッケージの一覧を取得\n",
    "\n",
    "    * pip list\n",
    "\n",
    "        インストールしてあるパッケージの一覧が表示される。\n",
    "\n",
    "    * pip list -o\n",
    "    \n",
    "        新バージョンが存在するパッケージの一覧が表示される。\n",
    "\n",
    "\n",
    "\n",
    "* 複数の環境でパッケージとバージョンを統一する\n",
    "\n",
    "   複数人で作業する時とかに、パッケージのバージョン統一しときたいよね。\n",
    "   \n",
    "   * pip freeze > requirements.txt\n",
    "   \n",
    "       requirements.txtにインストール済みのパッケージ一覧が出力される。\n",
    "       \n",
    "   * pip install -r requirements.txt\n",
    "   \n",
    "       requirements.txtに書いてあるパッケージがインストールされる。便利。"
   ]
  },
  {
   "cell_type": "markdown",
   "metadata": {},
   "source": [
    "\n",
    "### 4. Anaconda\n",
    "* Anacondaとは\n",
    "\n",
    "Anaconda社が開発してるPythonディストリビューション。\n",
    "\n",
    "色々なライブラリ同梱だから便利。いっぱい使われてる。\n",
    "\n",
    "* Anacondaを利用するメリットとデメリット\n",
    "\n",
    "独自のcondaコマンドで仮想環境の構築やパッケージ管理ができる。\n",
    "\n",
    "メリットは便利なこと。オールインワン的な。\n",
    "\n",
    "デメリットは、パッケージの管理でごちゃごちゃする。\n",
    "\n",
    "Anaconda社のリポジトリからダウンロードするからバージョンが古かったり、そもそも存在しなかったりする。\n",
    "\n",
    "pipとcondaどちらも使えるけど、環境が壊れることもあるから基本的にcondaで統一推奨。\n",
    "\n",
    "* Anacondaのインストール手順\n",
    "\n",
    "anacondaのインストーラーを落としてきてね。\n"
   ]
  },
  {
   "cell_type": "markdown",
   "metadata": {},
   "source": [
    "\n",
    "## 2-2.Pythonの基礎(3:7.5)"
   ]
  },
  {
   "cell_type": "markdown",
   "metadata": {},
   "source": [
    "\n",
    "### 1. Python文法\n",
    "* 環境構築\n",
    "\n",
    "とりあえず仮想環境作ってからお勉強しようね。\n",
    "\n",
    "* 文法の考え方\n",
    "\n",
    "Pythonの設計思想：シンプルで読みやすいコードが書けること\n",
    "\n",
    "\n",
    "同じ動作をするプログラムは似たようなコードになる。\n",
    "\n",
    "* インデント\n",
    "\n",
    "コードブロックをインデントで表記するよ。\n",
    "\n",
    "* コーディング規約\n",
    "\n",
    "\n",
    "PEP 8\n",
    "\n",
    "PycodestyleやらFlake8っていうツールでコーディング規約チェックができるよ。\n"
   ]
  },
  {
   "cell_type": "markdown",
   "metadata": {},
   "source": [
    "\n",
    "### 2. 基本構文\n",
    "\n",
    "IPythonの対話モードで実行する形式で記述。\n",
    "    \n",
    "IPythonは色々機能があるよ。\n",
    "\n",
    "* TABキーによる補完\n",
    "* 自動インデント\n",
    "* オブジェクトの後ろに?でヘルプ機能\n",
    "* %で始まるマジックコマンド\n",
    "* !で始まるシェルコマンド\n"
   ]
  },
  {
   "cell_type": "markdown",
   "metadata": {},
   "source": [
    "\n",
    "* 条件分岐と繰り返し\n",
    "\n",
    "条件分岐はif,elif,else。\n",
    "\n",
    "繰り返しはfor"
   ]
  },
  {
   "cell_type": "code",
   "execution_count": 2,
   "metadata": {},
   "outputs": [
    {
     "name": "stdout",
     "output_type": "stream",
     "text": [
      "昭和\n",
      "平成\n",
      "令和\n"
     ]
    }
   ],
   "source": [
    "for year in [1950,2000,2020]:\n",
    "    if year < 1989:\n",
    "        print('昭和')\n",
    "    elif year < 2019:\n",
    "        print('平成')\n",
    "    else:\n",
    "        print('令和')"
   ]
  },
  {
   "cell_type": "markdown",
   "metadata": {},
   "source": [
    "* 例外処理\n",
    "\n",
    "try,exceptで行う。"
   ]
  },
  {
   "cell_type": "code",
   "execution_count": 3,
   "metadata": {},
   "outputs": [
    {
     "name": "stdout",
     "output_type": "stream",
     "text": [
      "0で割っちゃ駄目\n"
     ]
    }
   ],
   "source": [
    "try:\n",
    "    1/0\n",
    "except ZeroDivisionError:\n",
    "    print('0で割っちゃ駄目')"
   ]
  },
  {
   "cell_type": "markdown",
   "metadata": {},
   "source": [
    "* 内包処理\n",
    "\n"
   ]
  },
  {
   "cell_type": "code",
   "execution_count": null,
   "metadata": {},
   "outputs": [],
   "source": []
  },
  {
   "cell_type": "code",
   "execution_count": null,
   "metadata": {},
   "outputs": [],
   "source": [
    "\n",
    "\n",
    "\n",
    "\n",
    "* ジェネレーター式\n",
    "* ファイル入出力\n",
    "* 文字列操作"
   ]
  },
  {
   "cell_type": "code",
   "execution_count": null,
   "metadata": {},
   "outputs": [],
   "source": []
  },
  {
   "cell_type": "code",
   "execution_count": null,
   "metadata": {},
   "outputs": [],
   "source": []
  },
  {
   "cell_type": "code",
   "execution_count": null,
   "metadata": {},
   "outputs": [],
   "source": []
  },
  {
   "cell_type": "code",
   "execution_count": null,
   "metadata": {},
   "outputs": [],
   "source": []
  },
  {
   "cell_type": "code",
   "execution_count": null,
   "metadata": {},
   "outputs": [],
   "source": []
  },
  {
   "cell_type": "markdown",
   "metadata": {},
   "source": [
    "\n",
    "3. 標準ライブラリ\n",
    "    * 正規表現モジュール\n",
    "    * loggingモジュール\n",
    "    * datetimeモジュール\n",
    "    * pickleモジュール\n",
    "    * pathibモジュール\n",
    "    "
   ]
  },
  {
   "cell_type": "markdown",
   "metadata": {},
   "source": [
    "\n",
    "## 2-3.Jupyter Notebook(1:2.5)"
   ]
  },
  {
   "cell_type": "markdown",
   "metadata": {},
   "source": [
    "\n",
    "1. Jupyter Notebookとは"
   ]
  },
  {
   "cell_type": "markdown",
   "metadata": {},
   "source": [
    "\n",
    "2. インストール"
   ]
  },
  {
   "cell_type": "markdown",
   "metadata": {},
   "source": [
    "\n",
    "3. 基本的な使い方"
   ]
  },
  {
   "cell_type": "markdown",
   "metadata": {},
   "source": [
    "\n",
    "4. 便利な使い方"
   ]
  },
  {
   "cell_type": "markdown",
   "metadata": {},
   "source": [
    "\n",
    "5. 第4章以降で使用する環境の準備"
   ]
  },
  {
   "cell_type": "code",
   "execution_count": null,
   "metadata": {},
   "outputs": [],
   "source": []
  }
 ],
 "metadata": {
  "kernelspec": {
   "display_name": "Python 3 (ipykernel)",
   "language": "python",
   "name": "python3"
  },
  "language_info": {
   "codemirror_mode": {
    "name": "ipython",
    "version": 3
   },
   "file_extension": ".py",
   "mimetype": "text/x-python",
   "name": "python",
   "nbconvert_exporter": "python",
   "pygments_lexer": "ipython3",
   "version": "3.9.6"
  }
 },
 "nbformat": 4,
 "nbformat_minor": 4
}
