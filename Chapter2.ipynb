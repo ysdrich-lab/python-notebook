{
 "cells": [
  {
   "cell_type": "markdown",
   "metadata": {},
   "source": [
    "# 2.pythonと環境(12.5/100)\n"
   ]
  },
  {
   "cell_type": "markdown",
   "metadata": {},
   "source": [
    "\n",
    "## 2-1.実行環境構築(1:2.5)\n"
   ]
  },
  {
   "cell_type": "markdown",
   "metadata": {},
   "source": [
    "\n",
    "1. Python公式版をインストール\n",
    "    * WindowsにPythonをインストールする\n",
    "    * macOSにPythonをインストールする"
   ]
  },
  {
   "cell_type": "markdown",
   "metadata": {},
   "source": [
    "\n",
    "2. venv:Pythonの仮想環境\n",
    "    * venvとは\n",
    "    * Windowsでvenv環境を作成\n",
    "    * macOSでvenv環境を作成"
   ]
  },
  {
   "cell_type": "markdown",
   "metadata": {},
   "source": [
    "\n",
    "3. pipコマンド\n",
    "    * パッケージのインストール、アニンストール\n",
    "    * パッケージの一覧を取得\n",
    "    * 複数の環境でパッケージとバージョンを統一する"
   ]
  },
  {
   "cell_type": "markdown",
   "metadata": {},
   "source": [
    "\n",
    "4. Anaconda\n",
    "    * Anacondaとは\n",
    "    * Anacondaを利用するメリットとデメリット\n",
    "    * Anacondaのインストール手順\n"
   ]
  },
  {
   "cell_type": "markdown",
   "metadata": {},
   "source": [
    "\n",
    "## 2-2.Pythonの基礎(3:7.5)"
   ]
  },
  {
   "cell_type": "markdown",
   "metadata": {},
   "source": [
    "\n",
    "1. Python文法\n",
    "    * 環境構築\n",
    "    * 文法の考え方\n",
    "    * インデント\n",
    "    * コーディング規約"
   ]
  },
  {
   "cell_type": "markdown",
   "metadata": {},
   "source": [
    "\n",
    "2. 基本構文\n",
    "    * 条件分岐と繰り返し\n",
    "    * 例外処理\n",
    "    * 内包処理\n",
    "    * ジェネレーター式\n",
    "    * ファイル入出力\n",
    "    * 文字列操作"
   ]
  },
  {
   "cell_type": "markdown",
   "metadata": {},
   "source": [
    "\n",
    "3. 標準ライブラリ\n",
    "    * 正規表現モジュール\n",
    "    * loggingモジュール\n",
    "    * datetimeモジュール\n",
    "    * pickleモジュール\n",
    "    * pathibモジュール\n",
    "    "
   ]
  },
  {
   "cell_type": "markdown",
   "metadata": {},
   "source": [
    "\n",
    "## 2-3.Jupyter Notebook(1:2.5)"
   ]
  },
  {
   "cell_type": "markdown",
   "metadata": {},
   "source": [
    "\n",
    "1. Jupyter Notebookとは"
   ]
  },
  {
   "cell_type": "markdown",
   "metadata": {},
   "source": [
    "\n",
    "2. インストール"
   ]
  },
  {
   "cell_type": "markdown",
   "metadata": {},
   "source": [
    "\n",
    "3. 基本的な使い方"
   ]
  },
  {
   "cell_type": "markdown",
   "metadata": {},
   "source": [
    "\n",
    "4. 便利な使い方"
   ]
  },
  {
   "cell_type": "markdown",
   "metadata": {},
   "source": [
    "\n",
    "5. 第4章以降で使用する環境の準備"
   ]
  },
  {
   "cell_type": "code",
   "execution_count": null,
   "metadata": {},
   "outputs": [],
   "source": []
  }
 ],
 "metadata": {
  "kernelspec": {
   "display_name": "Python 3 (ipykernel)",
   "language": "python",
   "name": "python3"
  },
  "language_info": {
   "codemirror_mode": {
    "name": "ipython",
    "version": 3
   },
   "file_extension": ".py",
   "mimetype": "text/x-python",
   "name": "python",
   "nbconvert_exporter": "python",
   "pygments_lexer": "ipython3",
   "version": "3.9.6"
  }
 },
 "nbformat": 4,
 "nbformat_minor": 4
}
