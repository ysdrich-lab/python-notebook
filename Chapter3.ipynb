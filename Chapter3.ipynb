{
 "cells": [
  {
   "cell_type": "markdown",
   "metadata": {
    "tags": []
   },
   "source": [
    "# 3.数学の基礎(15/100)\n"
   ]
  },
  {
   "cell_type": "markdown",
   "metadata": {},
   "source": [
    "## 3-1.数式を読むための基礎知識(1:2.5)"
   ]
  },
  {
   "cell_type": "markdown",
   "metadata": {},
   "source": [
    "### 1.数式と記号\n"
   ]
  },
  {
   "cell_type": "markdown",
   "metadata": {},
   "source": [
    "#### ギリシャ文字\n",
    "\n",
    "アルファとかベータとかガンマとか。  \n",
    "読み方特に覚えておく必要はなさそう。\n"
   ]
  },
  {
   "cell_type": "markdown",
   "metadata": {},
   "source": [
    "\n",
    "#### 集合\n",
    "\n",
    "単なる数のまとまり。set型と同じ。中で重複はしない。  \n",
    "要素$x$が、集合$S$に属していることを表すときは、\n",
    "\n",
    "$$\n",
    "x \\in S\n",
    "$$\n",
    "\n",
    "集合の中身を詳細に書き下す時は、\n",
    "\n",
    "$$\n",
    "    A = \\{ 1,2,3,4 \\}\\\\\n",
    "    B = \\{ 2,4,6,8 \\}\n",
    "$$\n",
    "\n",
    "$８$は$B$に属している:$x \\in S$  \n",
    "$８$は$A$に属している:$x \\notin S$\n",
    "\n",
    "* 和集合\n",
    "\n",
    "２つの集合の全体をまとめたもの。どちらかに含まれる。orの感覚。\n",
    "\n",
    "$$\n",
    "    A \\cup B = \\{ 1,2,3,4,6,8 \\}\n",
    "$$\n",
    "\n",
    "\n",
    "* 積集合\n",
    "\n",
    "２つの集合の共通部分。どちらにも含まれる。andの感覚。\n",
    "\n",
    "$$\n",
    "    A \\cap B = \\{ 2,4 \\}\n",
    "$$\n",
    "\n",
    "* 空集合\n",
    "\n",
    "空っぽの集合。何も含まれてない。$\\emptyset$で表現。ファイ。\n"
   ]
  },
  {
   "cell_type": "markdown",
   "metadata": {},
   "source": [
    "#### 数のまとまり\n",
    "\n",
    "順番が決まった数のまとまりを扱う時の書き方\n",
    "\n",
    "$$\n",
    "    x_1,x_2,\\cdots,x_{n-1},x_n\n",
    "$$\n",
    "とか、\n",
    "$$\n",
    "    x_i(i=1,2,\\cdots,n-1,n)\n",
    "$$\n",
    "とか。競プロでよく見る。"
   ]
  },
  {
   "cell_type": "markdown",
   "metadata": {},
   "source": [
    "#### 数式と番号\n",
    "\n",
    "参考書とか説明文とか、数式に参照用の番号が書いてたりするよね。それのこと。\n",
    "\n",
    "\n",
    "$$\n",
    "    x^2 - x = 0 \\tag{3.7}\n",
    "$$\n",
    "\n",
    "式(3.7)は二次方程式です。せやね。"
   ]
  },
  {
   "cell_type": "markdown",
   "metadata": {},
   "source": [
    "### 2.数学記号"
   ]
  },
  {
   "cell_type": "markdown",
   "metadata": {},
   "source": [
    "#### 足し算の繰り返し\n",
    "\n",
    "sum、シグマ。総和。\n",
    "\n",
    "$i=1$から$n$までのxを足すという表現は、\n",
    "\n",
    "$$\n",
    "    \\sum_{i=1}^{n}x_i\n",
    "$$\n",
    "\n",
    "無限大まで行ったりもする\n",
    "\n",
    "$$\n",
    "    \\sum_{i=1}^{\\infty} \\frac{1}{4^n} = \\frac{1}{3}\n",
    "$$"
   ]
  },
  {
   "cell_type": "markdown",
   "metadata": {},
   "source": [
    "#### 掛け算の繰り返し\n",
    "\n",
    "ギリシャ文字で大文字のパイ。使ったこと無い。\n",
    "\n",
    "$x_1$から$x_n$までをかけ合わせた数は、\n",
    "\n",
    "$$\n",
    "    \\prod_{i=1}^{n} x_i\n",
    "$$"
   ]
  },
  {
   "cell_type": "markdown",
   "metadata": {},
   "source": [
    "#### 特殊な定数とか\n",
    "\n",
    "* 階乗\n",
    "\n",
    "    $n!$  \n",
    "    1からnまで掛け算した値。たとえば、$6!$であれば、  \n",
    "    $6! = 6\\times5\\times\\times4\\times3\\times2\\times1 = 720$\n",
    "\n",
    "* 円周率\n",
    "\n",
    "    $\\pi=3.1415\\cdots$  \n",
    "    直径が1の円の円周の長さ。\n",
    "    \n",
    "* ネイピア数＝自然対数の底\n",
    "\n",
    "    $e = 2.71828\\cdots$  \n",
    "    微積とか極限とか、色々なとこでちょいちょい出てくる。  \n",
    "    具体的には、$y=\\frac{1}{x}$のグラフの、$1 \\leq x \\leq a$までの面積が$1$となるときの$a$の値。  \n",
    "    求め方は色々あるけど、  \n",
    "    $$e=\\sum_{i=0}^{\\infty} \\frac{1}{n!}$$  \n",
    "    とか。"
   ]
  },
  {
   "cell_type": "markdown",
   "metadata": {},
   "source": [
    "### 3.関数の基本"
   ]
  },
  {
   "cell_type": "markdown",
   "metadata": {},
   "source": [
    "#### 関数の書き方\n",
    "\n",
    "fとかgとかで表現するよ。\n",
    "$$\n",
    "    f(x) = x^2 + 1\n",
    "$$\n",
    "\n",
    "引数が複数の時も、\n",
    "\n",
    "$$\n",
    "    f(x,y) = x^2 -y^2 + 2\n",
    "$$"
   ]
  },
  {
   "cell_type": "markdown",
   "metadata": {},
   "source": [
    "#### すこし特殊な関数\n",
    "\n",
    "複数の数式で関数が定義されることもあるよ。  \n",
    "$x$が$0$から$1$のときは1を、そうでない場合は0を返す関数。\n",
    "\n",
    "$$\n",
    "    f(x) = \n",
    "        \\begin{cases}\n",
    "            0,x > 1 \\\\\n",
    "            1,0 \\leq  x \\leq 1\\\\\n",
    "            0, x < 0\n",
    "        \\end{cases}\n",
    "$$\n",
    "\n",
    "こんなふうにも書けるよ\n",
    "\n",
    "$$\n",
    "    f(x) = \n",
    "        \\begin{cases}\n",
    "            1,0 \\leq  x \\leq 1\\\\\n",
    "            0, その他\n",
    "        \\end{cases}\n",
    "$$"
   ]
  },
  {
   "cell_type": "markdown",
   "metadata": {},
   "source": [
    "#### 指数関数\n",
    "\n",
    "$f(x) = 2^x$みたいな、関数の入力が別の数字の肩に乗ってる関数のこと。  \n",
    "この場合、2が**底**って呼ばれる。  \n",
    "ネイピア数を底とする**指数関数**がよく使われる。$f(x) = 2^x$  \n",
    "グラフの形覚えとくといいね。指数関数のグラフはだいたい同じ。  \n",
    "当たり前だけど$x=0$のとき関数の値は1になる。  \n",
    "指数関数の応用で、**シグモイド関数**っていうのがあるよ。  \n",
    "$$\n",
    "    f(x) = \\frac{1}{1 + e^{-x}}\n",
    "$$\n",
    "$x$が大きくなる→$e^{-x}$は限りなく小さくなる→1に近づく。  \n",
    "$x$が小さくなる→$e^{-x}$は限りなく大きくなる→0に近づく。  \n",
    "$x$が$0$になる時、$\\frac{1}{1+1}=0.5$となる。"
   ]
  },
  {
   "cell_type": "markdown",
   "metadata": {},
   "source": [
    "#### 対数関数\n",
    "\n",
    "$$\n",
    "f(x) = \\log_2 x\n",
    "$$\n",
    "この式だと、$f(8)=3$になる。2が**底**で、**底を何乗したら入力値になるか**を出力する。  \n",
    "底がネイピア数の時を、**自然対数**と呼ぶ。  \n",
    "$e$を省略したり、$\\ln$って書いたりする。\n",
    "$$\n",
    "f(x) = \\log_e x = \\log x = \\ln x\n",
    "$$\n",
    "底が10の時、**常用対数＊＊って呼ぶ。  \n",
    "略さずに普通に$log_{10} x$って書く。  \n",
    "直感的にわかりやすいよね。$log_{10} 100 = 2$で、$log_{10} 1000 = 3$  \n",
    "だから、100以上1000未満の値を常用対数に入れると、2以上3未満の値が帰ってくるね。  \n",
    "対数関数のグラフも覚えておこうね。  \n",
    "どの対数関数も$f(1)=0$だよ。"
   ]
  },
  {
   "cell_type": "markdown",
   "metadata": {},
   "source": [
    "#### 三角関数\n",
    "\n",
    "    \n",
    "* 弧度法  \n",
    "    ラジアン。360度（円1周）＝$2 \\pi$。半径1の円の円周と同じ。\n",
    "* $\\sin \\theta$  \n",
    "    角度が$ \\theta$の坂を距離1進んだ時の、垂直方向の変動。正弦。  \n",
    "* $\\cos \\theta$  \n",
    "    角度が$ \\theta$の坂を距離1進んだ時の、垂直方向の変動。余弦。\n",
    "* $\\tan \\theta$  \n",
    "    角度が大きいと、坂の傾きは急になる。角度が小さくなると坂の傾きは緩やかになる。  \n",
    "    この傾きを表現する関数。正接。$\\theta  = \\frac{\\pi}{4}$の時、$\\tan \\theta = 1$  \n",
    "    $$\\tan \\theta = \\frac{\\sin \\theta}{\\cos \\theta}$$\n",
    "* 逆三角関数($\\sin^{-1}\\theta,\\cos^{-1}\\theta,\\tan^{-1}\\theta$)  \n",
    "    それぞれ$\\arcsin \\theta, \\arccos \\theta, \\arctan \\theta$って書いたりもする。$\\sin \\theta = h$のとき、 $\\sin^{-1}h = \\theta$となる。逆向きに考える。  \n",
    "    垂直方向にhだけ変動させたいときの角度を求める。  \n",
    "    変数hに対して、$\\theta$は無限に求まるので、関数として定義するには$\\theta$の範囲を決める必要がある。\n",
    "    \n",
    "    "
   ]
  },
  {
   "cell_type": "markdown",
   "metadata": {},
   "source": [
    "#### 双曲線関数\n",
    "\n",
    "それぞれ、ハイパボリックサイン、ハイパボリックコサイン、ハイパボリックタンジェント。\n",
    "$$\n",
    "\\sinh x = \\frac{e^x - e^{-x}}{2}\\\\\n",
    "\\cosh x = \\frac{e^x + e^{-x}}{2}\\\\\n",
    "\\tanh x = \\frac{\\sinh x}{\\cosh x}\n",
    "$$\n",
    "$\\cosh$のグラフは、カテナリー曲線になる（ロープの両端を持って垂らした時にできる曲線）"
   ]
  },
  {
   "cell_type": "markdown",
   "metadata": {},
   "source": [
    "## 3-2.線形代数(2:5)\n"
   ]
  },
  {
   "cell_type": "markdown",
   "metadata": {},
   "source": [
    "### 1.ベクトルとその演算"
   ]
  },
  {
   "cell_type": "markdown",
   "metadata": {},
   "source": [
    "#### ベクトルとは\n",
    "\n",
    "$$(4,7)$$\n",
    "\n",
    "こんな風に、数をまとめて表現したもの。上記のものは2次元ベクトル。  \n",
    "原点$(0,0)$から始まって、$(4,7)$から終わる矢印。  \n",
    "ベクトルだったり、座標情報だったりと同じ書き方をするとわかりにくいので、ベクトル(矢印）を表現する場合は縦に並べて書いたりもする。  \n",
    "$$\n",
    "\\begin{pmatrix}\n",
    "4  \\\\\n",
    "7 \\\\\n",
    "\\end{pmatrix}\n",
    "$$\n",
    "数字を$n$個並べれば、$n$次元ベクトル。  \n",
    "ベクトルとわかるように文字で表現したりもする。  \n",
    "$$\n",
    "\\vec{x} = \\begin{pmatrix}\n",
    "x_1 \\\\\n",
    "x_2 \\\\\n",
    "\\vdots \\\\\n",
    "x_n\n",
    "\\end{pmatrix}\n",
    "$$"
   ]
  },
  {
   "cell_type": "markdown",
   "metadata": {},
   "source": [
    "\n",
    "\n",
    "#### ベクトルの演算\n",
    "\n",
    "ベクトルの足し算：要素同士の足し算。つまり、要素の数が同じベクトル間でしか計算できない。\n",
    "$$\n",
    "\\vec{x} + \\vec{y} = \\begin{pmatrix}\n",
    "x_1 + y_1 \\\\\n",
    "x_2 + y_2\\\\\n",
    "\\vdots \\\\\n",
    "x_n + y_n\n",
    "\\end{pmatrix}\n",
    "$$\n",
    "ベクトルとは違い、単なる1つの数を**スカラー**と呼ぶ。  \n",
    "ベクトルとスカラーの掛け算は可能。\n",
    "$$\n",
    "a\\vec{x} = \\begin{pmatrix}\n",
    "ax_1 \\\\\n",
    "ax_2\\\\\n",
    "\\vdots \\\\\n",
    "ax_n\n",
    "\\end{pmatrix}\n",
    "$$"
   ]
  },
  {
   "cell_type": "markdown",
   "metadata": {},
   "source": [
    "#### ノルム\n",
    "\n",
    "ベクトルの大きさ（長さ）をスカラーで表現したもの。英語で「標準、基準」の意味。  \n",
    "ユークリッド距離とかマンハッタン距離とか。  \n",
    "ユークリッド距離：$||x|| = \\sqrt{x^2_1 +x^2_2 +\\dots + x^2_n}$  \n",
    "マンハッタン距離：$||x|| = |x_1| +|x_2| +\\dots + |x_n|$  \n",
    "ユークリッド距離を$L^1$ノルムって呼んだり$||x||_1$って書いたりする。  \n",
    "マンハッタン距離を$L^2$ノルムって呼んだり$||x||_2$って書いたりする。  \n",
    "これらを一般化すると、$L^p$ノルムは、  \n",
    "$$||x||_p = L^p = (|x_1|^p + |x_2|^p +  \\dots + |x_n|^p)^{\\frac{1}{p}}$$"
   ]
  },
  {
   "cell_type": "markdown",
   "metadata": {},
   "source": [
    "\n",
    "#### 内積\n",
    "\n",
    "ベクトル同士の掛け算のうちの1種類。外積っていうのもあるけど説明は省略。  \n",
    "内積の結果はスカラーに成る。スカラー積って呼ばれたりもする。要素同士の数字の掛け算の総和。  \n",
    "$$\n",
    "\\vec{x} \\cdot \\vec{y} = \\sum_{i=1}^{n} x_i y_i = x_1y_1 + x_2y_2 + \\dots + x_ny_n\n",
    "$$\n",
    "内積を2つのベクトルのL2ノルムで割ると、cosが出てくる。  \n",
    "$$\n",
    "\\cos \\theta = \\frac{\\vec{x} \\cdot \\vec{y}}{||x||||y||}\n",
    "$$"
   ]
  },
  {
   "cell_type": "markdown",
   "metadata": {},
   "source": [
    "### 2.行列とその演算"
   ]
  },
  {
   "cell_type": "markdown",
   "metadata": {},
   "source": [
    "#### 行列とは\n",
    "\n",
    "ベクトルと違い、行方向と列方向の2方向へ広がりを持って数を並べたもの。  \n",
    "次のは2行3列の行列。$2 \\times 3$行列。\n",
    "\n",
    "$$\n",
    "\\boldsymbol{A} = \\begin{pmatrix}\n",
    "11 & 12 & 13 \\\\\n",
    "21 & 22 & 23\\\\\n",
    "\\end{pmatrix}\n",
    "$$\n",
    "\n",
    "行、列の順番で場所を指定する。  \n",
    "Aの2行1列の成分は21。1行3列の成分は13。  \n",
    "$a_{ij}$って表現する。サイズが大きかったら途中の要素が省略されたりする。次の行列は$m\\times n$行列。\n",
    "\n",
    "$$\n",
    "\\boldsymbol{A} = \\begin{pmatrix}\n",
    "a_{11} & a_{12} & \\cdots & a_{1n} \\\\\n",
    "a_{21} & a_{22} & \\cdots &a_{2n}\\\\\n",
    "\\vdots & \\vdots & \\ddots & \\vdots \\\\\n",
    "a_{m1} & a_{m2} & \\cdots & a_{mn}\n",
    "\\end{pmatrix}\n",
    "$$\n",
    "\n",
    "行と列のサイズが同じだったら**正方行列**って呼ぶ。  \n",
    "正方行列の中でも、左上から右下（m==n)の成分が全て1で、他の要素が全て0の行列を**単位行列**って呼ぶ。$I$って書いたりする。\n",
    "\n",
    "$$\n",
    "\\boldsymbol{A} = \\begin{pmatrix}\n",
    "1 & 0 & \\cdots & 0 \\\\\n",
    "0 & 1 & \\cdots & 0\\\\\n",
    "\\vdots & \\vdots & \\ddots & \\vdots \\\\\n",
    "0 & 0 & \\cdots & 1\n",
    "\\end{pmatrix}\n",
    "$$\n",
    "\n",
    "ベクトルも、1行n列や、m行1列の行列と言える。"
   ]
  },
  {
   "cell_type": "markdown",
   "metadata": {},
   "source": [
    "#### 行列の演算\n",
    "\n",
    "2つの行列の行数、列数があってるなら、足し算引き算ができる。  \n",
    "$$\n",
    "\\boldsymbol{A} - \\boldsymbol{B} = \\begin{pmatrix}\n",
    "a_{11}-b_{11} & a_{12}-b_{12} & \\cdots & a_{1n}-b_{1n} \\\\\n",
    "a_{21}-b_{21} & a_{22}-b_{22} & \\cdots &a_{2n}-b_{2n}\\\\\n",
    "\\vdots & \\vdots & \\ddots & \\vdots \\\\\n",
    "a_{m1}-b_{m1} & a_{m2}-b_{m2} & \\cdots & a_{mn}-b_{mn}\n",
    "\\end{pmatrix}\n",
    "$$\n",
    "\n",
    "行列の**列の数**と、ベクトルのサイズが同じなら掛け算ができる。\n",
    "\n",
    "$$\n",
    "\\begin{eqnarray}\n",
    "\\boldsymbol{A}\\boldsymbol{x} &=& \\begin{pmatrix}\n",
    "a_{11} & a_{12} & \\cdots & a_{1n} \\\\\n",
    "a_{21} & a_{22} & \\cdots &a_{2n}\\\\\n",
    "\\vdots & \\vdots & \\ddots & \\vdots \\\\\n",
    "a_{m1} & a_{m2} & \\cdots & a_{mn}\n",
    "\\end{pmatrix}\n",
    "\\begin{pmatrix}\n",
    "x_1\\\\\n",
    "x_2\\\\\n",
    "\\vdots\\\\\n",
    "x_n\n",
    "\\end{pmatrix}\\\\\n",
    "&=&\\begin{pmatrix}\n",
    "a_{11}x_1 & a_{12}x_2 & \\cdots & a_{1n}x_n \\\\\n",
    "a_{21}x_1 & a_{22}x_2 & \\cdots &a_{2n}x_n\\\\\n",
    "\\vdots & \\vdots & \\ddots & \\vdots \\\\\n",
    "a_{m1}x_1 & a_{m2}x_2 & \\cdots & a_{mn}x_n\n",
    "\\end{pmatrix}\n",
    "\\end{eqnarray}\n",
    "$$\n",
    "\n",
    "具体例として、２次正方行列とベクトルの掛け算の例。\n",
    "\n",
    "$$\n",
    "\\begin{eqnarray}\n",
    "\\begin{pmatrix}\n",
    "1 & 2\\\\\n",
    "3 & 4\\\\\n",
    "\\end{pmatrix}\n",
    "\\begin{pmatrix}\n",
    "5\\\\\n",
    "6\\\\\n",
    "\\end{pmatrix}\n",
    "&=&\\begin{pmatrix}\n",
    "1\\times 5 + 2\\times 6 \\\\\n",
    "3\\times 5 + 4\\times 6\n",
    "\\end{pmatrix} \\\\\n",
    "&=&\\begin{pmatrix}\n",
    "17 \\\\\n",
    "39\n",
    "\\end{pmatrix} \\\\\n",
    "\\end{eqnarray}\n",
    "$$"
   ]
  },
  {
   "cell_type": "markdown",
   "metadata": {},
   "source": [
    "#### 行列の掛け算\n",
    "\n",
    "行列同士の掛け算。  \n",
    "掛けられる側の行列は、横ベクトルが並んだもの。 掛ける側の行列は、縦ベクトルが並んだものと考えるといいかも。\n",
    "\n",
    "$$\n",
    "\\begin{eqnarray}\n",
    "\\begin{pmatrix}\n",
    "1 & 2\\\\\n",
    "3 & 4\\\\\n",
    "\\end{pmatrix}\n",
    "\\begin{pmatrix}\n",
    "5 & 7\\\\\n",
    "6 & 8\\\\\n",
    "\\end{pmatrix}\n",
    "&=&\\begin{pmatrix}\n",
    "1\\times 5 + 2\\times 6 & 1\\times 7 + 2\\times 8 \\\\\n",
    "3\\times 5 + 4\\times 6 & 3\\times 7 + 4\\times 8 \n",
    "\\end{pmatrix} \\\\\n",
    "&=&\\begin{pmatrix}\n",
    "17 & 23 \\\\\n",
    "39 & 53\n",
    "\\end{pmatrix} \\\\\n",
    "\\end{eqnarray}\n",
    "$$\n",
    "\n",
    "行列の掛け算は順番を入れ替えると答えが変わる可能性がある。  \n",
    "正方行列同士、かつ、片方が単位行列であれば、計算結果が元の正方行列となるので順番を入れ替えることが可能。  \n",
    "$m \\times s$行列に$s \\times n$行列を掛けると、 $m \\times n$行列の結果が帰ってくる。"
   ]
  },
  {
   "cell_type": "markdown",
   "metadata": {},
   "source": [
    "#### 行列の分解\n",
    "\n",
    "$m \\times s$行列に$s \\times n$行列を掛けると、 $m \\times n$行列の結果が帰ってくる。  \n",
    "ということは。\n",
    "$m \\times n$行列を、$m \\times s$行列と$s \\times n$行列に分けることができるかもしれない。  \n",
    "主成分分析法とか、非負値行列因子分解とか、そういうのがあるらしい。  \n",
    "機械学習技術の進歩に役立つ。"
   ]
  },
  {
   "cell_type": "markdown",
   "metadata": {},
   "source": [
    "## 3-3.基礎解析(1:2.5)\n"
   ]
  },
  {
   "cell_type": "markdown",
   "metadata": {},
   "source": [
    "### 1.微分と積分の意味"
   ]
  },
  {
   "cell_type": "markdown",
   "metadata": {},
   "source": [
    "#### 積分は面積\n",
    "\n",
    "$y = x$の直線、$x = a$の垂直線、$x=0$の水平線に囲まれた領域の面積を考える。  \n",
    "$a=4$のとき、　$4 \\times 4 \\times \\frac{1}{2} = 8$になる。\n",
    "x軸上の点$a$によってこの面積は変化するよね。\n",
    "座標を$a$と置いた時、この面積を表現する関数Fは次のように成るよね。\n",
    "\n",
    "$$F(a) = \\frac{1}{2}a^2$$\n",
    "\n",
    "同じことを、積分の記号（インテグラル）を使うとこう書いたりする。\n",
    "\n",
    "$$\n",
    "F(a) = \\int_{0}^{a} xdx = \\frac{1}{2}a^2\n",
    "$$\n",
    "\n",
    "になる。\n",
    "\n",
    "積分の範囲が決まってる場合、**定積分**って言う。  \n",
    "dxは、xで積分する意味。"
   ]
  },
  {
   "cell_type": "markdown",
   "metadata": {},
   "source": [
    "#### 微分は傾き\n",
    "\n",
    "$$F(a) = \\frac{1}{2}a^2$$\n",
    "このグラフ上で、$a=x$の点と$a=x+h$の点を通る直線を考える。  \n",
    "この直線の傾きは、\n",
    "$$\n",
    "\\frac{\\frac{1}{2}(x+h)^2-\\frac{1}{2}x^2}{x+h-x} = \\frac{\\frac{1}{2}h^2 + xh}{h} = \\frac{1}{2}h + x\n",
    "$$\n",
    "\n",
    "ここで、$h$を限りなく$0$に近づける。$h$に$0$を代入するわけではない。いわゆる$\\lim$  \n",
    "前提から考えると、直線は２点を通るのではなく、最初に取った$a=x$の点で関数に接することになる。  \n",
    "要するに接線の傾き。ざっくり計算すると、\n",
    "$$\n",
    "\\frac{1}{2}h + x \\simeq x\n",
    "$$\n",
    "\n",
    "接線の傾きは場所によって変わるけど、$x$になる。  \n",
    "積分する前の関数と同じ。  \n",
    "積分したあとで微分したからね、そりゃそうだね。  \n",
    "\n",
    "関数$F(x)$を微分したら$f(x)$になる。$fx$を積分したら$F(x)$になる。  \n",
    "$F$を$f$の原始関数、$f$を$F$の導関数と呼ぶ。\n"
   ]
  },
  {
   "cell_type": "markdown",
   "metadata": {},
   "source": [
    "### 2.かんたんな関数の微分と積分\n",
    "\n",
    "* $y=2$  \n",
    "直線を考えてみる。横一直線。\n",
    "\n",
    "この関数はxが変化しても全く値が変化しないので、$x$で微分すると$0$になる。   \n",
    "$y=C$($C$：何らかの定数）を考えると、　　\n",
    "\n",
    "$$\\frac{dy}{dx} = 0$$\n",
    "\n",
    "* $f(x) = x^n+C$  \n",
    "この関数を考えてみる。$n$は整数、$C$は定数。\n",
    "この関数を微分すると、\n",
    "\n",
    "$$ f'(x) = nx^{n-1}$$\n",
    "\n",
    "* $f(x) = \\frac{1}{2}x^2$\n",
    "\n",
    "上記より、これを微分すると、$f'(x)=x$になる。\n",
    "\n",
    "積分は微分の逆なので、次が成り立つ。\n",
    "\n",
    "$$\\int x^ndx = \\frac{1}{n+1}x^{(n+1)}+C (n \\neq -1)$$\n",
    "\n",
    "\n",
    "右辺を微分すると左辺のインテグラル内の関数と等しくなる。  \n",
    "Cは**積分定数**って言う。範囲の決められていない積分を、**不定積分**って言う。"
   ]
  },
  {
   "cell_type": "markdown",
   "metadata": {},
   "source": [
    "#### いろいろな関数の微分と積分\n",
    "\n",
    "* $f(x)=e^x$  \n",
    "何回微分してもずっと$e^x$。底が$e$のときだけ。積分したら積分定数($C$)がつく。  \n",
    "\n",
    "* 三角関数\n",
    "$$(\\sin x)' = \\cos x \\\\\n",
    "(\\cos x)' = -\\sin x$$\n",
    "\n",
    "* 自然対数\n",
    "\n",
    "$$(\\log x)' = \\frac{1}{x} (x>0)$$\n",
    "\n",
    "逆に考えると、  \n",
    "\n",
    "$$ \\int \\frac{1}{x}dx = \\log |x| + C$$\n",
    "\n",
    "絶対値がつくよね。"
   ]
  },
  {
   "cell_type": "markdown",
   "metadata": {},
   "source": [
    "### 3.微分と関数の値"
   ]
  },
  {
   "cell_type": "markdown",
   "metadata": {},
   "source": [
    "### 4.偏微分"
   ]
  },
  {
   "cell_type": "markdown",
   "metadata": {},
   "source": [
    "## 3-4.確率と計算(2:5)"
   ]
  },
  {
   "cell_type": "markdown",
   "metadata": {},
   "source": [
    "### 1.統計の基礎"
   ]
  },
  {
   "cell_type": "markdown",
   "metadata": {},
   "source": [
    "#### 代表値"
   ]
  },
  {
   "cell_type": "markdown",
   "metadata": {},
   "source": [
    "#### 最小値(minimum)"
   ]
  },
  {
   "cell_type": "markdown",
   "metadata": {},
   "source": [
    "#### 最大値(maximum)"
   ]
  },
  {
   "cell_type": "markdown",
   "metadata": {},
   "source": [
    "#### 平均値(mean)"
   ]
  },
  {
   "cell_type": "markdown",
   "metadata": {},
   "source": [
    "#### 中央値(median)"
   ]
  },
  {
   "cell_type": "markdown",
   "metadata": {},
   "source": [
    "#### 最頻値(mode)"
   ]
  },
  {
   "cell_type": "markdown",
   "metadata": {},
   "source": [
    "#### ばらつきの指標"
   ]
  },
  {
   "cell_type": "markdown",
   "metadata": {},
   "source": [
    "#### 度数分布表"
   ]
  },
  {
   "cell_type": "markdown",
   "metadata": {},
   "source": [
    "### 2.データの可視化方法"
   ]
  },
  {
   "cell_type": "markdown",
   "metadata": {},
   "source": [
    "#### ヒストグラム"
   ]
  },
  {
   "cell_type": "markdown",
   "metadata": {},
   "source": [
    "#### 箱ひげ図"
   ]
  },
  {
   "cell_type": "markdown",
   "metadata": {},
   "source": [
    "#### 散布図"
   ]
  },
  {
   "cell_type": "markdown",
   "metadata": {},
   "source": [
    "### 3.データとその関係性"
   ]
  },
  {
   "cell_type": "markdown",
   "metadata": {},
   "source": [
    "#### 相関係数"
   ]
  },
  {
   "cell_type": "markdown",
   "metadata": {},
   "source": [
    "#### その他の相関係数"
   ]
  },
  {
   "cell_type": "markdown",
   "metadata": {},
   "source": [
    "### 4.確率"
   ]
  },
  {
   "cell_type": "markdown",
   "metadata": {},
   "source": [
    "#### 確率の基礎"
   ]
  },
  {
   "cell_type": "markdown",
   "metadata": {},
   "source": [
    "#### 条件付き確率"
   ]
  },
  {
   "cell_type": "markdown",
   "metadata": {},
   "source": [
    "###　5.確率分布"
   ]
  },
  {
   "cell_type": "markdown",
   "metadata": {},
   "source": [
    "#### 確率変数と確率分布"
   ]
  },
  {
   "cell_type": "markdown",
   "metadata": {},
   "source": [
    "#### 期待値"
   ]
  },
  {
   "cell_type": "markdown",
   "metadata": {},
   "source": [
    "#### 分散"
   ]
  },
  {
   "cell_type": "markdown",
   "metadata": {},
   "source": [
    "### 6.確率と関数"
   ]
  },
  {
   "cell_type": "markdown",
   "metadata": {},
   "source": [
    "#### 離散一様分布"
   ]
  },
  {
   "cell_type": "markdown",
   "metadata": {},
   "source": [
    "#### 正規分布"
   ]
  },
  {
   "cell_type": "markdown",
   "metadata": {},
   "source": []
  },
  {
   "cell_type": "markdown",
   "metadata": {},
   "source": []
  },
  {
   "cell_type": "markdown",
   "metadata": {},
   "source": []
  },
  {
   "cell_type": "markdown",
   "metadata": {},
   "source": []
  }
 ],
 "metadata": {
  "kernelspec": {
   "display_name": "Python 3 (ipykernel)",
   "language": "python",
   "name": "python3"
  },
  "language_info": {
   "codemirror_mode": {
    "name": "ipython",
    "version": 3
   },
   "file_extension": ".py",
   "mimetype": "text/x-python",
   "name": "python",
   "nbconvert_exporter": "python",
   "pygments_lexer": "ipython3",
   "version": "3.9.6"
  }
 },
 "nbformat": 4,
 "nbformat_minor": 4
}
