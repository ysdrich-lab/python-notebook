{
 "cells": [
  {
   "cell_type": "markdown",
   "metadata": {
    "tags": []
   },
   "source": [
    "# 3.数学の基礎(15/100)\n"
   ]
  },
  {
   "cell_type": "markdown",
   "metadata": {},
   "source": [
    "## 3-1.数式を読むための基礎知識(1:2.5)"
   ]
  },
  {
   "cell_type": "markdown",
   "metadata": {},
   "source": [
    "### 1.数式と記号\n"
   ]
  },
  {
   "cell_type": "markdown",
   "metadata": {},
   "source": [
    "#### ギリシャ文字\n",
    "\n",
    "アルファとかベータとかガンマとか。  \n",
    "読み方特に覚えておく必要はなさそう。\n"
   ]
  },
  {
   "cell_type": "markdown",
   "metadata": {},
   "source": [
    "\n",
    "#### 集合\n",
    "\n",
    "単なる数のまとまり。set型と同じ。中で重複はしない。  \n",
    "要素$x$が、集合$S$に属していることを表すときは、\n",
    "\n",
    "$$\n",
    "x \\in S\n",
    "$$\n",
    "\n",
    "集合の中身を詳細に書き下す時は、\n",
    "\n",
    "$$\n",
    "    A = \\{ 1,2,3,4 \\}\\\\\n",
    "    B = \\{ 2,4,6,8 \\}\n",
    "$$\n",
    "\n",
    "$８$は$B$に属している:$x \\in S$  \n",
    "$８$は$A$に属している:$x \\notin S$\n",
    "\n",
    "* 和集合\n",
    "\n",
    "２つの集合の全体をまとめたもの。どちらかに含まれる。orの感覚。\n",
    "\n",
    "$$\n",
    "    A \\cup B = \\{ 1,2,3,4,6,8 \\}\n",
    "$$\n",
    "\n",
    "\n",
    "* 積集合\n",
    "\n",
    "２つの集合の共通部分。どちらにも含まれる。andの感覚。\n",
    "\n",
    "$$\n",
    "    A \\cap B = \\{ 2,4 \\}\n",
    "$$\n",
    "\n",
    "* 空集合\n",
    "\n",
    "空っぽの集合。何も含まれてない。$\\emptyset$で表現。ファイ。\n"
   ]
  },
  {
   "cell_type": "markdown",
   "metadata": {},
   "source": [
    "#### 数のまとまり\n",
    "\n",
    "順番が決まった数のまとまりを扱う時の書き方\n",
    "\n",
    "$$\n",
    "    x_1,x_2,\\cdots,x_{n-1},x_n\n",
    "$$\n",
    "とか、\n",
    "$$\n",
    "    x_i(i=1,2,\\cdots,n-1,n)\n",
    "$$\n",
    "とか。競プロでよく見る。"
   ]
  },
  {
   "cell_type": "markdown",
   "metadata": {},
   "source": [
    "#### 数式と番号\n",
    "\n",
    "参考書とか説明文とか、数式に参照用の番号が書いてたりするよね。それのこと。\n",
    "\n",
    "\n",
    "$$\n",
    "    x^2 - x = 0 \\tag{3.7}\n",
    "$$\n",
    "\n",
    "式(3.7)は二次方程式です。せやね。"
   ]
  },
  {
   "cell_type": "markdown",
   "metadata": {},
   "source": [
    "### 2.数学記号"
   ]
  },
  {
   "cell_type": "markdown",
   "metadata": {},
   "source": [
    "#### 足し算の繰り返し\n",
    "\n",
    "sum、シグマ。総和。\n",
    "\n",
    "$i=1$から$n$までのxを足すという表現は、\n",
    "\n",
    "$$\n",
    "    \\sum_{i=1}^{n}x_i\n",
    "$$\n",
    "\n",
    "無限大まで行ったりもする\n",
    "\n",
    "$$\n",
    "    \\sum_{i=1}^{\\infty} \\frac{1}{4^n} = \\frac{1}{3}\n",
    "$$"
   ]
  },
  {
   "cell_type": "markdown",
   "metadata": {},
   "source": [
    "#### 掛け算の繰り返し\n",
    "\n",
    "ギリシャ文字で大文字のパイ。使ったこと無い。\n",
    "\n",
    "$x_1$から$x_n$までをかけ合わせた数は、\n",
    "\n",
    "$$\n",
    "    \\prod_{i=1}^{n} x_i\n",
    "$$"
   ]
  },
  {
   "cell_type": "markdown",
   "metadata": {},
   "source": [
    "#### 特殊な定数とか\n",
    "\n",
    "* 階乗\n",
    "\n",
    "    $n!$  \n",
    "    1からnまで掛け算した値。たとえば、$6!$であれば、  \n",
    "    $6! = 6\\times5\\times\\times4\\times3\\times2\\times1 = 720$\n",
    "\n",
    "* 円周率\n",
    "\n",
    "    $\\pi=3.1415\\cdots$  \n",
    "    直径が1の円の円周の長さ。\n",
    "    \n",
    "* ネイピア数＝自然対数の底\n",
    "\n",
    "    $e = 2.71828\\cdots$  \n",
    "    微積とか極限とか、色々なとこでちょいちょい出てくる。  \n",
    "    具体的には、$y=\\frac{1}{x}$のグラフの、$1 \\leq x \\leq a$までの面積が$1$となるときの$a$の値。  \n",
    "    求め方は色々あるけど、  \n",
    "    $$e=\\sum_{i=0}^{\\infty} \\frac{1}{n!}$$  \n",
    "    とか。"
   ]
  },
  {
   "cell_type": "markdown",
   "metadata": {},
   "source": [
    "### 3.関数の基本"
   ]
  },
  {
   "cell_type": "markdown",
   "metadata": {},
   "source": [
    "#### 関数の書き方\n",
    "\n",
    "fとかgとかで表現するよ。\n",
    "$$\n",
    "    f(x) = x^2 + 1\n",
    "$$\n",
    "\n",
    "引数が複数の時も、\n",
    "\n",
    "$$\n",
    "    f(x,y) = x^2 -y^2 + 2\n",
    "$$"
   ]
  },
  {
   "cell_type": "markdown",
   "metadata": {},
   "source": [
    "#### すこし特殊な関数\n",
    "\n",
    "複数の数式で関数が定義されることもあるよ。  \n",
    "$x$が$0$から$1$のときは1を、そうでない場合は0を返す関数。\n",
    "\n",
    "$$\n",
    "    f(x) = \n",
    "        \\begin{cases}\n",
    "            0,x > 1 \\\\\n",
    "            1,0 \\leq  x \\leq 1\\\\\n",
    "            0, x < 0\n",
    "        \\end{cases}\n",
    "$$\n",
    "\n",
    "こんなふうにも書けるよ\n",
    "\n",
    "$$\n",
    "    f(x) = \n",
    "        \\begin{cases}\n",
    "            1,0 \\leq  x \\leq 1\\\\\n",
    "            0, その他\n",
    "        \\end{cases}\n",
    "$$"
   ]
  },
  {
   "cell_type": "markdown",
   "metadata": {},
   "source": [
    "#### 指数関数\n",
    "\n",
    "$f(x) = 2^x$みたいな、関数の入力が別の数字の肩に乗ってる関数のこと。  \n",
    "この場合、2が**底**って呼ばれる。  \n",
    "ネイピア数を底とする**指数関数**がよく使われる。$f(x) = 2^x$  \n",
    "グラフの形覚えとくといいね。指数関数のグラフはだいたい同じ。  \n",
    "当たり前だけど$x=0$のとき関数の値は1になる。  \n",
    "指数関数の応用で、**シグモイド関数**っていうのがあるよ。  \n",
    "$$\n",
    "    f(x) = \\frac{1}{1 + e^{-x}}\n",
    "$$\n",
    "$x$が大きくなる→$e^{-x}$は限りなく小さくなる→1に近づく。  \n",
    "$x$が小さくなる→$e^{-x}$は限りなく大きくなる→0に近づく。  \n",
    "$x$が$0$になる時、$\\frac{1}{1+1}=0.5$となる。"
   ]
  },
  {
   "cell_type": "markdown",
   "metadata": {},
   "source": [
    "#### 対数関数\n",
    "\n",
    "$$\n",
    "f(x) = \\log_2 x\n",
    "$$\n",
    "この式だと、$f(8)=3$になる。2が**底**で、**底を何乗したら入力値になるか**を出力する。  \n",
    "底がネイピア数の時を、**自然対数**と呼ぶ。  \n",
    "$e$を省略したり、$\\ln$って書いたりする。\n",
    "$$\n",
    "f(x) = \\log_e x = \\log x = \\ln x\n",
    "$$\n",
    "底が10の時、**常用対数＊＊って呼ぶ。  \n",
    "略さずに普通に$log_{10} x$って書く。  \n",
    "直感的にわかりやすいよね。$log_{10} 100 = 2$で、$log_{10} 1000 = 3$  \n",
    "だから、100以上1000未満の値を常用対数に入れると、2以上3未満の値が帰ってくるね。  \n",
    "対数関数のグラフも覚えておこうね。  \n",
    "どの対数関数も$f(1)=0$だよ。"
   ]
  },
  {
   "cell_type": "markdown",
   "metadata": {},
   "source": [
    "#### 三角関数\n",
    "\n",
    "    \n",
    "* 弧度法  \n",
    "    ラジアン。360度（円1周）＝$2 \\pi$。半径1の円の円周と同じ。\n",
    "* $\\sin \\theta$  \n",
    "    角度が$ \\theta$の坂を距離1進んだ時の、垂直方向の変動。正弦。  \n",
    "* $\\cos \\theta$  \n",
    "    角度が$ \\theta$の坂を距離1進んだ時の、垂直方向の変動。余弦。\n",
    "* $\\tan \\theta$  \n",
    "    角度が大きいと、坂の傾きは急になる。角度が小さくなると坂の傾きは緩やかになる。  \n",
    "    この傾きを表現する関数。正接。$\\theta  = \\frac{\\pi}{4}$の時、$\\tan \\theta = 1$  \n",
    "    $$\\tan \\theta = \\frac{\\sin \\theta}{\\cos \\theta}$$\n",
    "* 逆三角関数($\\sin^{-1}\\theta,\\cos^{-1}\\theta,\\tan^{-1}\\theta$)  \n",
    "    それぞれ$\\arcsin \\theta, \\arccos \\theta, \\arctan \\theta$って書いたりもする。$\\sin \\theta = h$のとき、 $\\sin^{-1}h = \\theta$となる。逆向きに考える。  \n",
    "    垂直方向にhだけ変動させたいときの角度を求める。  \n",
    "    変数hに対して、$\\theta$は無限に求まるので、関数として定義するには$\\theta$の範囲を決める必要がある。\n",
    "    \n",
    "    "
   ]
  },
  {
   "cell_type": "markdown",
   "metadata": {},
   "source": [
    "#### 双曲線関数\n",
    "\n",
    "それぞれ、ハイパボリックサイン、ハイパボリックコサイン、ハイパボリックタンジェント。\n",
    "$$\n",
    "\\sinh x = \\frac{e^x - e^{-x}}{2}\\\\\n",
    "\\cosh x = \\frac{e^x + e^{-x}}{2}\\\\\n",
    "\\tanh x = \\frac{\\sinh x}{\\cosh x}\n",
    "$$\n",
    "$\\cosh$のグラフは、カテナリー曲線になる（ロープの両端を持って垂らした時にできる曲線）"
   ]
  },
  {
   "cell_type": "markdown",
   "metadata": {},
   "source": [
    "## 3-2.線形代数(2:5)\n"
   ]
  },
  {
   "cell_type": "markdown",
   "metadata": {},
   "source": [
    "### 1.ベクトルとその演算"
   ]
  },
  {
   "cell_type": "markdown",
   "metadata": {},
   "source": [
    "#### ベクトルとは\n",
    "\n",
    "$$(4,7)$$\n",
    "\n",
    "こんな風に、数をまとめて表現したもの。上記のものは2次元ベクトル。  \n",
    "原点$(0,0)$から始まって、$(4,7)$から終わる矢印。  \n",
    "ベクトルだったり、座標情報だったりと同じ書き方をするとわかりにくいので、ベクトル(矢印）を表現する場合は縦に並べて書いたりもする。  \n",
    "$$\n",
    "\\begin{pmatrix}\n",
    "4  \\\\\n",
    "7 \\\\\n",
    "\\end{pmatrix}\n",
    "$$\n",
    "数字を$n$個並べれば、$n$次元ベクトル。  \n",
    "ベクトルとわかるように文字で表現したりもする。  \n",
    "$$\n",
    "\\vec{x} = \\begin{pmatrix}\n",
    "x_1 \\\\\n",
    "x_2 \\\\\n",
    "\\vdots \\\\\n",
    "x_n\n",
    "\\end{pmatrix}\n",
    "$$"
   ]
  },
  {
   "cell_type": "markdown",
   "metadata": {},
   "source": [
    "\n",
    "\n",
    "#### ベクトルの演算\n",
    "\n",
    "ベクトルの足し算：要素同士の足し算。つまり、要素の数が同じベクトル間でしか計算できない。\n",
    "$$\n",
    "\\vec{x} + \\vec{y} = \\begin{pmatrix}\n",
    "x_1 + y_1 \\\\\n",
    "x_2 + y_2\\\\\n",
    "\\vdots \\\\\n",
    "x_n + y_n\n",
    "\\end{pmatrix}\n",
    "$$\n",
    "ベクトルとは違い、単なる1つの数を**スカラー**と呼ぶ。  \n",
    "ベクトルとスカラーの掛け算は可能。\n",
    "$$\n",
    "a\\vec{x} = \\begin{pmatrix}\n",
    "ax_1 \\\\\n",
    "ax_2\\\\\n",
    "\\vdots \\\\\n",
    "ax_n\n",
    "\\end{pmatrix}\n",
    "$$"
   ]
  },
  {
   "cell_type": "markdown",
   "metadata": {},
   "source": [
    "#### ノルム\n",
    "\n",
    "ベクトルの大きさ（長さ）をスカラーで表現したもの。英語で「標準、基準」の意味。  \n",
    "ユークリッド距離とかマンハッタン距離とか。  \n",
    "ユークリッド距離：$||x|| = \\sqrt{x^2_1 +x^2_2 +\\dots + x^2_n}$  \n",
    "マンハッタン距離：$||x|| = |x_1| +|x_2| +\\dots + |x_n|$  \n",
    "ユークリッド距離を$L^1$ノルムって呼んだり$||x||_1$って書いたりする。  \n",
    "マンハッタン距離を$L^2$ノルムって呼んだり$||x||_2$って書いたりする。  \n",
    "これらを一般化すると、$L^p$ノルムは、  \n",
    "$$||x||_p = L^p = (|x_1|^p + |x_2|^p +  \\dots + |x_n|^p)^{\\frac{1}{p}}$$"
   ]
  },
  {
   "cell_type": "markdown",
   "metadata": {},
   "source": [
    "\n",
    "#### 内積\n",
    "\n",
    "ベクトル同士の掛け算のうちの1種類。外積っていうのもあるけど説明は省略。  \n",
    "内積の結果はスカラーに成る。スカラー積って呼ばれたりもする。要素同士の数字の掛け算の総和。  \n",
    "$$\n",
    "\\vec{x} \\cdot \\vec{y} = \\sum_{i=1}^{n} x_i y_i = x_1y_1 + x_2y_2 + \\dots + x_ny_n\n",
    "$$\n",
    "内積を2つのベクトルのL2ノルムで割ると、cosが出てくる。  \n",
    "$$\n",
    "\\cos \\theta = \\frac{\\vec{x} \\cdot \\vec{y}}{||x||||y||}\n",
    "$$"
   ]
  },
  {
   "cell_type": "markdown",
   "metadata": {},
   "source": [
    "### 2.行列とその演算"
   ]
  },
  {
   "cell_type": "markdown",
   "metadata": {},
   "source": [
    "#### 行列とは\n",
    "\n",
    "ベクトルと違い、行方向と列方向の2方向へ広がりを持って数を並べたもの。  \n",
    "次のは2行3列の行列。$2 \\times 3$行列。\n",
    "\n",
    "$$\n",
    "\\boldsymbol{A} = \\begin{pmatrix}\n",
    "11 & 12 & 13 \\\\\n",
    "21 & 22 & 23\\\\\n",
    "\\end{pmatrix}\n",
    "$$\n",
    "\n",
    "行、列の順番で場所を指定する。  \n",
    "Aの2行1列の成分は21。1行3列の成分は13。  \n",
    "$a_{ij}$って表現する。サイズが大きかったら途中の要素が省略されたりする。次の行列は$m\\times n$行列。\n",
    "\n",
    "$$\n",
    "\\boldsymbol{A} = \\begin{pmatrix}\n",
    "a_{11} & a_{12} & \\cdots & a_{1n} \\\\\n",
    "a_{21} & a_{22} & \\cdots &a_{2n}\\\\\n",
    "\\vdots & \\vdots & \\ddots & \\vdots \\\\\n",
    "a_{m1} & a_{m2} & \\cdots & a_{mn}\n",
    "\\end{pmatrix}\n",
    "$$\n",
    "\n",
    "行と列のサイズが同じだったら**正方行列**って呼ぶ。  \n",
    "正方行列の中でも、左上から右下（m==n)の成分が全て1で、他の要素が全て0の行列を**単位行列**って呼ぶ。$I$って書いたりする。\n",
    "\n",
    "$$\n",
    "\\boldsymbol{A} = \\begin{pmatrix}\n",
    "1 & 0 & \\cdots & 0 \\\\\n",
    "0 & 1 & \\cdots & 0\\\\\n",
    "\\vdots & \\vdots & \\ddots & \\vdots \\\\\n",
    "0 & 0 & \\cdots & 1\n",
    "\\end{pmatrix}\n",
    "$$\n",
    "\n",
    "ベクトルも、1行n列や、m行1列の行列と言える。"
   ]
  },
  {
   "cell_type": "markdown",
   "metadata": {},
   "source": [
    "#### 行列の演算\n",
    "\n",
    "2つの行列の行数、列数があってるなら、足し算引き算ができる。  \n",
    "$$\n",
    "\\boldsymbol{A} - \\boldsymbol{B} = \\begin{pmatrix}\n",
    "a_{11}-b_{11} & a_{12}-b_{12} & \\cdots & a_{1n}-b_{1n} \\\\\n",
    "a_{21}-b_{21} & a_{22}-b_{22} & \\cdots &a_{2n}-b_{2n}\\\\\n",
    "\\vdots & \\vdots & \\ddots & \\vdots \\\\\n",
    "a_{m1}-b_{m1} & a_{m2}-b_{m2} & \\cdots & a_{mn}-b_{mn}\n",
    "\\end{pmatrix}\n",
    "$$\n",
    "\n",
    "行列の**列の数**と、ベクトルのサイズが同じなら掛け算ができる。\n",
    "\n",
    "$$\n",
    "\\begin{eqnarray}\n",
    "\\boldsymbol{A}\\boldsymbol{x} &=& \\begin{pmatrix}\n",
    "a_{11} & a_{12} & \\cdots & a_{1n} \\\\\n",
    "a_{21} & a_{22} & \\cdots &a_{2n}\\\\\n",
    "\\vdots & \\vdots & \\ddots & \\vdots \\\\\n",
    "a_{m1} & a_{m2} & \\cdots & a_{mn}\n",
    "\\end{pmatrix}\n",
    "\\begin{pmatrix}\n",
    "x_1\\\\\n",
    "x_2\\\\\n",
    "\\vdots\\\\\n",
    "x_n\n",
    "\\end{pmatrix}\\\\\n",
    "&=&\\begin{pmatrix}\n",
    "a_{11}x_1 & a_{12}x_2 & \\cdots & a_{1n}x_n \\\\\n",
    "a_{21}x_1 & a_{22}x_2 & \\cdots &a_{2n}x_n\\\\\n",
    "\\vdots & \\vdots & \\ddots & \\vdots \\\\\n",
    "a_{m1}x_1 & a_{m2}x_2 & \\cdots & a_{mn}x_n\n",
    "\\end{pmatrix}\n",
    "\\end{eqnarray}\n",
    "$$\n",
    "\n",
    "具体例として、２次正方行列とベクトルの掛け算の例。\n",
    "\n",
    "$$\n",
    "\\begin{eqnarray}\n",
    "\\begin{pmatrix}\n",
    "1 & 2\\\\\n",
    "3 & 4\\\\\n",
    "\\end{pmatrix}\n",
    "\\begin{pmatrix}\n",
    "5\\\\\n",
    "6\\\\\n",
    "\\end{pmatrix}\n",
    "&=&\\begin{pmatrix}\n",
    "1\\times 5 + 2\\times 6 \\\\\n",
    "3\\times 5 + 4\\times 6\n",
    "\\end{pmatrix} \\\\\n",
    "&=&\\begin{pmatrix}\n",
    "17 \\\\\n",
    "39\n",
    "\\end{pmatrix} \\\\\n",
    "\\end{eqnarray}\n",
    "$$"
   ]
  },
  {
   "cell_type": "markdown",
   "metadata": {},
   "source": [
    "#### 行列の掛け算\n",
    "\n",
    "行列同士の掛け算。  \n",
    "掛けられる側の行列は、横ベクトルが並んだもの。 掛ける側の行列は、縦ベクトルが並んだものと考えるといいかも。\n",
    "\n",
    "$$\n",
    "\\begin{eqnarray}\n",
    "\\begin{pmatrix}\n",
    "1 & 2\\\\\n",
    "3 & 4\\\\\n",
    "\\end{pmatrix}\n",
    "\\begin{pmatrix}\n",
    "5 & 7\\\\\n",
    "6 & 8\\\\\n",
    "\\end{pmatrix}\n",
    "&=&\\begin{pmatrix}\n",
    "1\\times 5 + 2\\times 6 & 1\\times 7 + 2\\times 8 \\\\\n",
    "3\\times 5 + 4\\times 6 & 3\\times 7 + 4\\times 8 \n",
    "\\end{pmatrix} \\\\\n",
    "&=&\\begin{pmatrix}\n",
    "17 & 23 \\\\\n",
    "39 & 53\n",
    "\\end{pmatrix} \\\\\n",
    "\\end{eqnarray}\n",
    "$$\n",
    "\n",
    "行列の掛け算は順番を入れ替えると答えが変わる可能性がある。  \n",
    "正方行列同士、かつ、片方が単位行列であれば、計算結果が元の正方行列となるので順番を入れ替えることが可能。  \n",
    "$m \\times s$行列に$s \\times n$行列を掛けると、 $m \\times n$行列の結果が帰ってくる。"
   ]
  },
  {
   "cell_type": "markdown",
   "metadata": {},
   "source": [
    "#### 行列の分解\n",
    "\n",
    "$m \\times s$行列に$s \\times n$行列を掛けると、 $m \\times n$行列の結果が帰ってくる。  \n",
    "ということは。\n",
    "$m \\times n$行列を、$m \\times s$行列と$s \\times n$行列に分けることができるかもしれない。  \n",
    "主成分分析法とか、非負値行列因子分解とか、そういうのがあるらしい。  \n",
    "機械学習技術の進歩に役立つ。"
   ]
  },
  {
   "cell_type": "markdown",
   "metadata": {},
   "source": [
    "## 3-3.基礎解析(1:2.5)\n"
   ]
  },
  {
   "cell_type": "markdown",
   "metadata": {},
   "source": [
    "### 1.微分と積分の意味"
   ]
  },
  {
   "cell_type": "markdown",
   "metadata": {},
   "source": [
    "#### 積分は面積\n",
    "\n",
    "$y = x$の直線、$x = a$の垂直線、$x=0$の水平線に囲まれた領域の面積を考える。  \n",
    "$a=4$のとき、　$4 \\times 4 \\times \\frac{1}{2} = 8$になる。\n",
    "x軸上の点$a$によってこの面積は変化するよね。\n",
    "座標を$a$と置いた時、この面積を表現する関数Fは次のように成るよね。\n",
    "\n",
    "$$F(a) = \\frac{1}{2}a^2$$\n",
    "\n",
    "同じことを、積分の記号（インテグラル）を使うとこう書いたりする。\n",
    "\n",
    "$$\n",
    "F(a) = \\int_{0}^{a} xdx = \\frac{1}{2}a^2\n",
    "$$\n",
    "\n",
    "になる。\n",
    "\n",
    "積分の範囲が決まってる場合、**定積分**って言う。  \n",
    "dxは、xで積分する意味。"
   ]
  },
  {
   "cell_type": "markdown",
   "metadata": {},
   "source": [
    "#### 微分は傾き\n",
    "\n",
    "$$F(a) = \\frac{1}{2}a^2$$\n",
    "このグラフ上で、$a=x$の点と$a=x+h$の点を通る直線を考える。  \n",
    "この直線の傾きは、\n",
    "$$\n",
    "\\frac{\\frac{1}{2}(x+h)^2-\\frac{1}{2}x^2}{x+h-x} = \\frac{\\frac{1}{2}h^2 + xh}{h} = \\frac{1}{2}h + x\n",
    "$$\n",
    "\n",
    "ここで、$h$を限りなく$0$に近づける。$h$に$0$を代入するわけではない。いわゆる$\\lim$  \n",
    "前提から考えると、直線は２点を通るのではなく、最初に取った$a=x$の点で関数に接することになる。  \n",
    "要するに接線の傾き。ざっくり計算すると、\n",
    "$$\n",
    "\\frac{1}{2}h + x \\simeq x\n",
    "$$\n",
    "\n",
    "接線の傾きは場所によって変わるけど、$x$になる。  \n",
    "積分する前の関数と同じ。  \n",
    "積分したあとで微分したからね、そりゃそうだね。  \n",
    "\n",
    "関数$F(x)$を微分したら$f(x)$になる。$fx$を積分したら$F(x)$になる。  \n",
    "$F$を$f$の原始関数、$f$を$F$の導関数と呼ぶ。\n"
   ]
  },
  {
   "cell_type": "markdown",
   "metadata": {},
   "source": [
    "### 2.かんたんな関数の微分と積分\n",
    "\n",
    "* $y=2$  \n",
    "直線を考えてみる。横一直線。\n",
    "\n",
    "この関数はxが変化しても全く値が変化しないので、$x$で微分すると$0$になる。   \n",
    "$y=C$($C$：何らかの定数）を考えると、　　\n",
    "\n",
    "$$\\frac{dy}{dx} = 0$$\n",
    "\n",
    "* $f(x) = x^n+C$  \n",
    "この関数を考えてみる。$n$は整数、$C$は定数。\n",
    "この関数を微分すると、\n",
    "\n",
    "$$ f'(x) = nx^{n-1}$$\n",
    "\n",
    "* $f(x) = \\frac{1}{2}x^2$\n",
    "\n",
    "上記より、これを微分すると、$f'(x)=x$になる。\n",
    "\n",
    "積分は微分の逆なので、次が成り立つ。\n",
    "\n",
    "$$\\int x^ndx = \\frac{1}{n+1}x^{(n+1)}+C (n \\neq -1)$$\n",
    "\n",
    "\n",
    "右辺を微分すると左辺のインテグラル内の関数と等しくなる。  \n",
    "Cは**積分定数**って言う。範囲の決められていない積分を、**不定積分**って言う。"
   ]
  },
  {
   "cell_type": "markdown",
   "metadata": {},
   "source": [
    "#### いろいろな関数の微分と積分\n",
    "\n",
    "* $f(x)=e^x$  \n",
    "何回微分してもずっと$e^x$。底が$e$のときだけ。積分したら積分定数($C$)がつく。  \n",
    "\n",
    "* 三角関数\n",
    "$$(\\sin x)' = \\cos x \\\\\n",
    "(\\cos x)' = -\\sin x$$\n",
    "\n",
    "* 自然対数\n",
    "\n",
    "$$(\\log x)' = \\frac{1}{x} (x>0)$$\n",
    "\n",
    "逆に考えると、  \n",
    "\n",
    "$$ \\int \\frac{1}{x}dx = \\log |x| + C$$\n",
    "\n",
    "絶対値がつくよね。"
   ]
  },
  {
   "cell_type": "markdown",
   "metadata": {},
   "source": [
    "### 3.微分と関数の値\n",
    "\n",
    "$y=\\frac{1}{2}x^2$と、線上の２点$A,B$を考える。  \n",
    "この関数を微分すると、$\\frac{dy}{dx} = x$になる。\n",
    "\n",
    "導関数に具体的な$x$の値を代入して得られる値を**微分係数**と呼ぶ。  \n",
    "微分係数が正の場合、$x$が増加すると元の関数の値も増加する。  \n",
    "微分係数が負の場合、$x$が増加すると元の関数の値は現象する。  \n",
    "\n",
    "その時点での傾きがわかるよ。すごいね。"
   ]
  },
  {
   "cell_type": "markdown",
   "metadata": {},
   "source": [
    "### 4.偏微分\n",
    "\n",
    "$$f(x,y)=\\sin x \\cos y$$\n",
    "\n",
    "２つ以上の変数を持つ関数について考える。  \n",
    "上記関数を、$x$について微分すると,\n",
    "$$\\frac{\\delta f}{\\delta x} = \\cos x \\cos y$$\n",
    "どの変数で微分したかを示す必要がある。\n",
    "注目していない変数は、定数と思って進めれば良い。　　\n",
    "$f(x,y)$を$y$について微分すると、\n",
    "$$\\frac{\\delta f}{\\delta y} = -\\sin x \\sin y$$\n",
    "になる。"
   ]
  },
  {
   "cell_type": "markdown",
   "metadata": {},
   "source": [
    "## 3-4.確率と計算(2:5)"
   ]
  },
  {
   "cell_type": "markdown",
   "metadata": {},
   "source": [
    "### 1.統計の基礎\n",
    "サンプルデータを作ってから話をすすめる。"
   ]
  },
  {
   "cell_type": "code",
   "execution_count": 4,
   "metadata": {},
   "outputs": [
    {
     "data": {
      "text/html": [
       "<div>\n",
       "<style scoped>\n",
       "    .dataframe tbody tr th:only-of-type {\n",
       "        vertical-align: middle;\n",
       "    }\n",
       "\n",
       "    .dataframe tbody tr th {\n",
       "        vertical-align: top;\n",
       "    }\n",
       "\n",
       "    .dataframe thead th {\n",
       "        text-align: right;\n",
       "    }\n",
       "</style>\n",
       "<table border=\"1\" class=\"dataframe\">\n",
       "  <thead>\n",
       "    <tr style=\"text-align: right;\">\n",
       "      <th></th>\n",
       "      <th>都道府県</th>\n",
       "      <th>金額</th>\n",
       "      <th>順位（昇順）</th>\n",
       "    </tr>\n",
       "  </thead>\n",
       "  <tbody>\n",
       "    <tr>\n",
       "      <th>0</th>\n",
       "      <td>和歌山県</td>\n",
       "      <td>1795</td>\n",
       "      <td>1</td>\n",
       "    </tr>\n",
       "    <tr>\n",
       "      <th>1</th>\n",
       "      <td>沖縄県</td>\n",
       "      <td>2782</td>\n",
       "      <td>8</td>\n",
       "    </tr>\n",
       "    <tr>\n",
       "      <th>2</th>\n",
       "      <td>東京都</td>\n",
       "      <td>4009</td>\n",
       "      <td>29</td>\n",
       "    </tr>\n",
       "    <tr>\n",
       "      <th>3</th>\n",
       "      <td>神奈川県</td>\n",
       "      <td>4153</td>\n",
       "      <td>31</td>\n",
       "    </tr>\n",
       "    <tr>\n",
       "      <th>4</th>\n",
       "      <td>福島県</td>\n",
       "      <td>6092</td>\n",
       "      <td>47</td>\n",
       "    </tr>\n",
       "  </tbody>\n",
       "</table>\n",
       "</div>"
      ],
      "text/plain": [
       "   都道府県    金額  順位（昇順）\n",
       "0  和歌山県  1795       1\n",
       "1   沖縄県  2782       8\n",
       "2   東京都  4009      29\n",
       "3  神奈川県  4153      31\n",
       "4   福島県  6092      47"
      ]
     },
     "execution_count": 4,
     "metadata": {},
     "output_type": "execute_result"
    }
   ],
   "source": [
    "import pandas as pd\n",
    "list = [['和歌山県',1795,1],['沖縄県',2782,8],['東京都',4009,29],['神奈川県',4153,31],['福島県',6092,47]]\n",
    "columns = ['都道府県','金額','順位（昇順）']\n",
    "df = pd.DataFrame(data=list,columns=columns)\n",
    "df"
   ]
  },
  {
   "cell_type": "markdown",
   "metadata": {},
   "source": [
    "総務省統計局からDLできるらしい。  \n",
    "１世帯あたりの納豆の年間購入金額を、2015年から２０１７年までの３年間で平均したもの。  \n",
    "一部を抜粋。\n",
    "\n",
    "#### 代表値\n",
    "\n",
    "データの全体像を把握するための値。  \n",
    "最小値、最大値、平均値、中央地、最頻値etcひっくるめて**代表値**"
   ]
  },
  {
   "cell_type": "markdown",
   "metadata": {},
   "source": [
    "#### 最小値(minimum)\n",
    "\n",
    "一番小さい値。1ではなく、1795円。  \n",
    "順位（昇順）は、あくまでも「金額を相対的に表したもの」なので。  \n",
    "上記データの本質としては、「各都道府県の納豆の年間購入金額」である点に注意。"
   ]
  },
  {
   "cell_type": "markdown",
   "metadata": {},
   "source": [
    "#### 最大値(maximum)\n",
    "\n",
    "一番大きい値。6092円。"
   ]
  },
  {
   "cell_type": "markdown",
   "metadata": {},
   "source": [
    "#### 平均値(mean)\n",
    "算術平均のこと。総和/データの個数。\n",
    "$$\\frac{1}{n} \\sum_{i=1}^{n}x_i$$\n",
    "上記データの場合、$(1795+2782+4009+4153+6092)/5 = 3770.46円$"
   ]
  },
  {
   "cell_type": "markdown",
   "metadata": {},
   "source": [
    "#### 中央値(median)\n",
    "\n",
    "データを小さい順に並べて、ちょうど真ん中に来る値。平均値ではない。  \n",
    "47都道府県全データがあるなら、２４番目のデータ（佐賀県、３５７９円）が中央値。  \n",
    "データが偶数個の場合は、中間に位置する２つのデータの平均値になる。\n"
   ]
  },
  {
   "cell_type": "markdown",
   "metadata": {},
   "source": [
    "#### 最頻値(mode)\n",
    "最も頻繁に出現するデータ。  \n",
    "\n",
    "#### 分位数\n",
    "パーセンタイルとかクォンタイルとか。四分位数とかいう。  \n",
    "データを小さい順に並べて、全体の1/4番目に来るものを第１四分位数、順番に第2四分位数、第3四分位数と続く。\n",
    "\n"
   ]
  },
  {
   "cell_type": "markdown",
   "metadata": {},
   "source": [
    "#### ばらつきの指標\n",
    "\n",
    "**分散**とか**標準偏差**とか。  \n",
    "標準偏差を二乗すると分散になる。  \n",
    "分散とは、平均値と各データの差を二乗したものの総和。\n",
    "\n",
    "$$\n",
    "分散 = \\frac{1}{n} \\sum_{i=1}^{n}(x_i - \\bar{x})^2\n",
    "$$\n",
    "\n",
    "一部のデータだけが手元にあって、背後にある全体（母集団）の性質を推測したい場合、不偏分散を使う。\n",
    "$$\n",
    "不偏分散 = \\frac{1}{n-1} \\sum_{i=1}^{n}(x_i - \\bar{x})^2\n",
    "$$"
   ]
  },
  {
   "cell_type": "markdown",
   "metadata": {},
   "source": [
    "#### 度数分布表\n",
    "データの最大値と最小値の間を等間隔に区切る。←**階級**  \n",
    "その階級に含まれるデータがいくつある？←**度数**"
   ]
  },
  {
   "cell_type": "code",
   "execution_count": 5,
   "metadata": {},
   "outputs": [
    {
     "data": {
      "text/html": [
       "<div>\n",
       "<style scoped>\n",
       "    .dataframe tbody tr th:only-of-type {\n",
       "        vertical-align: middle;\n",
       "    }\n",
       "\n",
       "    .dataframe tbody tr th {\n",
       "        vertical-align: top;\n",
       "    }\n",
       "\n",
       "    .dataframe thead th {\n",
       "        text-align: right;\n",
       "    }\n",
       "</style>\n",
       "<table border=\"1\" class=\"dataframe\">\n",
       "  <thead>\n",
       "    <tr style=\"text-align: right;\">\n",
       "      <th></th>\n",
       "      <th>階級</th>\n",
       "      <th>度数</th>\n",
       "    </tr>\n",
       "  </thead>\n",
       "  <tbody>\n",
       "    <tr>\n",
       "      <th>0</th>\n",
       "      <td>1795.0~2654.4</td>\n",
       "      <td>7</td>\n",
       "    </tr>\n",
       "    <tr>\n",
       "      <th>1</th>\n",
       "      <td>2654.4~35138</td>\n",
       "      <td>14</td>\n",
       "    </tr>\n",
       "    <tr>\n",
       "      <th>2</th>\n",
       "      <td>3513.8~4373.2</td>\n",
       "      <td>13</td>\n",
       "    </tr>\n",
       "    <tr>\n",
       "      <th>3</th>\n",
       "      <td>4373.2~5232.6</td>\n",
       "      <td>8</td>\n",
       "    </tr>\n",
       "    <tr>\n",
       "      <th>4</th>\n",
       "      <td>5232.6~6092.0</td>\n",
       "      <td>5</td>\n",
       "    </tr>\n",
       "  </tbody>\n",
       "</table>\n",
       "</div>"
      ],
      "text/plain": [
       "              階級  度数\n",
       "0  1795.0~2654.4   7\n",
       "1   2654.4~35138  14\n",
       "2  3513.8~4373.2  13\n",
       "3  4373.2~5232.6   8\n",
       "4  5232.6~6092.0   5"
      ]
     },
     "execution_count": 5,
     "metadata": {},
     "output_type": "execute_result"
    }
   ],
   "source": [
    "list = [['1795.0~2654.4',7],['2654.4~35138',14],['3513.8~4373.2',13],['4373.2~5232.6',8],['5232.6~6092.0',5]]\n",
    "columns = ['階級','度数']\n",
    "df = pd.DataFrame(data=list,columns=columns)\n",
    "df"
   ]
  },
  {
   "cell_type": "markdown",
   "metadata": {},
   "source": [
    "### 2.データの可視化方法\n",
    "データの一覧を度数分布表にするとちょっとだけ見やすくなる。  \n",
    "これに加えて、グラフにするともっと分かりやすくなるね。いいね。"
   ]
  },
  {
   "cell_type": "markdown",
   "metadata": {},
   "source": [
    "#### ヒストグラム\n",
    "よくあるやつ。棒グラフ。  \n",
    "このままでは分布の全体像がわかりにくいので、縦軸の度数を対数表示（log表示）にするといい、らしい。"
   ]
  },
  {
   "cell_type": "markdown",
   "metadata": {},
   "source": [
    "#### 箱ひげ図\n",
    "ボックスプロットって呼ばれたりもする。 \n",
    "箱とひげがついてるやつ。"
   ]
  },
  {
   "cell_type": "markdown",
   "metadata": {},
   "source": [
    "#### 散布図\n",
    "あるサンプルに対して、2種類以上のデータがある場合に、それらをx軸とy軸に割り当てて描くグラフ。  \n",
    "データが３つなら、三次元の散布図を描けるけど正直見にくい。"
   ]
  },
  {
   "cell_type": "markdown",
   "metadata": {},
   "source": [
    "### 3.データとその関係性\n",
    "\n",
    "よく納豆を買う世帯は、わかめも多く買ってる気がする。  \n",
    "データの関係性を、定量的に表現するための方法が**相関係数**"
   ]
  },
  {
   "cell_type": "markdown",
   "metadata": {},
   "source": [
    "#### 相関係数\n",
    "\n",
    "1種類のデータのばらつきを測る指標→**分散**  \n",
    "１つのサンプルに、２種類のデータが有る場合→**共分散**  \n",
    "それぞれの変数について平均値との差を掛けたものの総和。  \n",
    "分散と違い、負の値を取ることもある。  \n",
    "\n",
    "$$\n",
    "S_{xy} = \\frac{1}{n}\\sum_{i=1}^{n}(x_i - \\bar x)(y_i - \\bar y)\n",
    "$$\n",
    "\n",
    "要素１と２の共分散を、要素１の分散と、要素２の分散の積で割ると相関係数$r_{xy}$が出る。\n",
    "\n",
    "$$\n",
    "r_{xy} = \\frac{s_{xy}}{s_x s_y}\n",
    "$$\n",
    "\n",
    "相関係数は、必ず$ -1 \\leq r_{xy} \\leq 1$の範囲に収まる。  \n",
    "1に近い：xが増えるとyも増える傾向が強い。  \n",
    "0に近い:相関が弱い.  \n",
    "-1に近い：xが増えるとyは減る傾向が強い。"
   ]
  },
  {
   "cell_type": "markdown",
   "metadata": {},
   "source": [
    "#### その他の相関係数\n",
    "\n",
    "* ピアソンの積率相関係数  \n",
    "上記相関係数。\n",
    "\n",
    "* スピアマンの順位相関係数  \n",
    "\n",
    "$$\n",
    "|"
   ]
  },
  {
   "cell_type": "markdown",
   "metadata": {},
   "source": [
    "### 4.確率"
   ]
  },
  {
   "cell_type": "markdown",
   "metadata": {},
   "source": [
    "#### 確率の基礎"
   ]
  },
  {
   "cell_type": "markdown",
   "metadata": {},
   "source": [
    "#### 条件付き確率"
   ]
  },
  {
   "cell_type": "markdown",
   "metadata": {},
   "source": [
    "###　5.確率分布"
   ]
  },
  {
   "cell_type": "markdown",
   "metadata": {},
   "source": [
    "#### 確率変数と確率分布"
   ]
  },
  {
   "cell_type": "markdown",
   "metadata": {},
   "source": [
    "#### 期待値"
   ]
  },
  {
   "cell_type": "markdown",
   "metadata": {},
   "source": [
    "#### 分散"
   ]
  },
  {
   "cell_type": "markdown",
   "metadata": {},
   "source": [
    "### 6.確率と関数"
   ]
  },
  {
   "cell_type": "markdown",
   "metadata": {},
   "source": [
    "#### 離散一様分布"
   ]
  },
  {
   "cell_type": "markdown",
   "metadata": {},
   "source": [
    "#### 正規分布"
   ]
  }
 ],
 "metadata": {
  "kernelspec": {
   "display_name": "Python 3 (ipykernel)",
   "language": "python",
   "name": "python3"
  },
  "language_info": {
   "codemirror_mode": {
    "name": "ipython",
    "version": 3
   },
   "file_extension": ".py",
   "mimetype": "text/x-python",
   "name": "python",
   "nbconvert_exporter": "python",
   "pygments_lexer": "ipython3",
   "version": "3.9.6"
  }
 },
 "nbformat": 4,
 "nbformat_minor": 4
}
