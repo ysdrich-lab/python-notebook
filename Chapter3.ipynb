{
 "cells": [
  {
   "cell_type": "markdown",
   "metadata": {
    "tags": []
   },
   "source": [
    "# 3.数学の基礎(15/100)\n"
   ]
  },
  {
   "cell_type": "markdown",
   "metadata": {},
   "source": [
    "## 3-1.数式を読むための基礎知識(1:2.5)"
   ]
  },
  {
   "cell_type": "markdown",
   "metadata": {},
   "source": [
    "### 1.数式と記号\n"
   ]
  },
  {
   "cell_type": "markdown",
   "metadata": {},
   "source": [
    "#### ギリシャ文字\n",
    "\n",
    "アルファとかベータとかガンマとか。  \n",
    "読み方特に覚えておく必要はなさそう。\n"
   ]
  },
  {
   "cell_type": "markdown",
   "metadata": {},
   "source": [
    "\n",
    "#### 集合\n",
    "\n",
    "単なる数のまとまり。set型と同じ。中で重複はしない。\n",
    "\n",
    "要素$x$が、集合$S$に属していることを表すときは、\n",
    "\n",
    "$$\n",
    "x \\in S\n",
    "$$\n",
    "\n",
    "集合の中身を詳細に書き下す時は、\n",
    "\n",
    "$$\n",
    "    A = \\{ 1,2,3,4 \\}\\\\\n",
    "    B = \\{ 2,4,6,8 \\}\n",
    "$$\n",
    "\n",
    "$８$は$B$に属している:$x \\in S$\n",
    "\n",
    "$８$は$A$に属している:$x \\notin S$\n",
    "\n",
    "* 和集合\n",
    "\n",
    "２つの集合の全体をまとめたもの。どちらかに含まれる。orの感覚。\n",
    "\n",
    "$$\n",
    "    A \\cup B = \\{ 1,2,3,4,6,8 \\}\n",
    "$$\n",
    "\n",
    "\n",
    "* 積集合\n",
    "\n",
    "２つの集合の共通部分。どちらにも含まれる。andの感覚。\n",
    "\n",
    "$$\n",
    "    A \\cap B = \\{ 2,4 \\}\n",
    "$$\n",
    "\n",
    "* 空集合\n",
    "\n",
    "空っぽの集合。何も含まれてない。$\\emptyset$で表現。ファイ。\n"
   ]
  },
  {
   "cell_type": "markdown",
   "metadata": {},
   "source": [
    "#### 数のまとまり\n",
    "\n",
    "順番が決まった数のまとまりを扱う時の書き方\n",
    "\n",
    "$$\n",
    "    x_1,x_2,\\cdots,x_{n-1},x_n\n",
    "$$\n",
    "とか、\n",
    "$$\n",
    "    x_i(i=1,2,\\cdots,n-1,n)\n",
    "$$\n",
    "とか。競プロでよく見る。"
   ]
  },
  {
   "cell_type": "markdown",
   "metadata": {},
   "source": [
    "#### 数式と番号\n",
    "\n",
    "参考書とか説明文とか、数式に参照用の番号が書いてたりするよね。それのこと。\n",
    "\n",
    "\n",
    "$$\n",
    "    x^2 - x = 0 \\tag{3.7}\n",
    "$$\n",
    "\n",
    "式(3.7)は二次方程式です。せやね。"
   ]
  },
  {
   "cell_type": "markdown",
   "metadata": {},
   "source": [
    "### 2.数学記号"
   ]
  },
  {
   "cell_type": "markdown",
   "metadata": {},
   "source": [
    "#### 足し算の繰り返し\n",
    "\n",
    "sum、シグマ。総和。\n",
    "\n",
    "$i=1$から$n$までのxを足すという表現は、\n",
    "\n",
    "$$\n",
    "    \\sum_{i=1}^{n}x_i\n",
    "$$\n",
    "\n",
    "無限大まで行ったりもする\n",
    "\n",
    "$$\n",
    "    \\sum_{i=1}^{\\infty} \\frac{1}{4^n} = \\frac{1}{3}\n",
    "$$"
   ]
  },
  {
   "cell_type": "markdown",
   "metadata": {},
   "source": [
    "#### 掛け算の繰り返し\n",
    "\n",
    "ギリシャ文字で大文字のパイ。使ったこと無い。\n",
    "\n",
    "$x_1$から$x_n$までをかけ合わせた数は、\n",
    "\n",
    "$$\n",
    "    \\prod_{i=1}^{n} x_i\n",
    "$$"
   ]
  },
  {
   "cell_type": "markdown",
   "metadata": {},
   "source": [
    "#### 特殊な定数とか\n",
    "\n",
    "* 階乗\n",
    "\n",
    "    $n!$\n",
    "    \n",
    "    1からnまで掛け算した値。たとえば、$6!$であれば、\n",
    "    \n",
    "    $6! = 6\\times5\\times\\times4\\times3\\times2\\times1 = 720$\n",
    "\n",
    "* 円周率\n",
    "\n",
    "    $\\pi=3.1415\\cdots$\n",
    "    \n",
    "    直径が1の円の円周の長さ。\n",
    "    \n",
    "* ネイピア数＝自然対数の底\n",
    "\n",
    "    $e = 2.71828\\cdots$\n",
    "    \n",
    "    微積とか極限とか、色々なとこでちょいちょい出てくる。\n",
    "    \n",
    "    具体的には、$y=\\frac{1}{x}$のグラフの、$1 \\leq x \\leq a$までの面積が$1$となるときの$a$の値。\n",
    "    \n",
    "    求め方は色々あるけど、\n",
    "    \n",
    "    $$e=\\sum_{i=0}^{\\infty} \\frac{1}{n!}$$\n",
    "    \n",
    "    とか。"
   ]
  },
  {
   "cell_type": "markdown",
   "metadata": {},
   "source": [
    "### 3.関数の基本"
   ]
  },
  {
   "cell_type": "markdown",
   "metadata": {},
   "source": [
    "#### 関数の書き方"
   ]
  },
  {
   "cell_type": "markdown",
   "metadata": {},
   "source": [
    "#### すこし特殊な関数"
   ]
  },
  {
   "cell_type": "markdown",
   "metadata": {},
   "source": [
    "#### 指数関数"
   ]
  },
  {
   "cell_type": "markdown",
   "metadata": {},
   "source": [
    "#### 対数関数"
   ]
  },
  {
   "cell_type": "markdown",
   "metadata": {},
   "source": [
    "#### 三角関数"
   ]
  },
  {
   "cell_type": "markdown",
   "metadata": {},
   "source": [
    "#### 双曲線関数"
   ]
  },
  {
   "cell_type": "markdown",
   "metadata": {},
   "source": []
  },
  {
   "cell_type": "markdown",
   "metadata": {},
   "source": []
  },
  {
   "cell_type": "markdown",
   "metadata": {},
   "source": []
  },
  {
   "cell_type": "markdown",
   "metadata": {},
   "source": []
  },
  {
   "cell_type": "markdown",
   "metadata": {},
   "source": []
  },
  {
   "cell_type": "markdown",
   "metadata": {},
   "source": [
    "## 3-2.線形代数(2:5)\n"
   ]
  },
  {
   "cell_type": "markdown",
   "metadata": {},
   "source": [
    "## 3-3.基礎解析(1:2.5)\n"
   ]
  },
  {
   "cell_type": "markdown",
   "metadata": {},
   "source": [
    "## 3-4.確率と計算(2:5)"
   ]
  },
  {
   "cell_type": "markdown",
   "metadata": {},
   "source": []
  },
  {
   "cell_type": "markdown",
   "metadata": {},
   "source": []
  },
  {
   "cell_type": "markdown",
   "metadata": {},
   "source": []
  },
  {
   "cell_type": "markdown",
   "metadata": {},
   "source": []
  }
 ],
 "metadata": {
  "kernelspec": {
   "display_name": "Python 3 (ipykernel)",
   "language": "python",
   "name": "python3"
  },
  "language_info": {
   "codemirror_mode": {
    "name": "ipython",
    "version": 3
   },
   "file_extension": ".py",
   "mimetype": "text/x-python",
   "name": "python",
   "nbconvert_exporter": "python",
   "pygments_lexer": "ipython3",
   "version": "3.9.6"
  }
 },
 "nbformat": 4,
 "nbformat_minor": 4
}
