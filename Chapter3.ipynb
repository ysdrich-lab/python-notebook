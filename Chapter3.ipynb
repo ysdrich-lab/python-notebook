{
 "cells": [
  {
   "cell_type": "markdown",
   "metadata": {},
   "source": [
    "# 3.数学の基礎(15/100)\n",
    "## 3-1.数式を読むための基礎知識(1:2.5)\n",
    "## 3-2.線形代数(2:5)\n",
    "## 3-3.基礎解析(1:2.5)\n",
    "## 3-4.確率と計算(2:5)\n",
    "\n"
   ]
  }
 ],
 "metadata": {
  "kernelspec": {
   "display_name": "Python 3",
   "language": "python",
   "name": "python3"
  },
  "language_info": {
   "codemirror_mode": {
    "name": "ipython",
    "version": 3
   },
   "file_extension": ".py",
   "mimetype": "text/x-python",
   "name": "python",
   "nbconvert_exporter": "python",
   "pygments_lexer": "ipython3",
   "version": "3.8.5"
  }
 },
 "nbformat": 4,
 "nbformat_minor": 4
}
